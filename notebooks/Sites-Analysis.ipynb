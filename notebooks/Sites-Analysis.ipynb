{
 "cells": [
  {
   "cell_type": "code",
   "execution_count": null,
   "id": "c0886088",
   "metadata": {},
   "outputs": [],
   "source": [
    "import pandas as pd"
   ]
  },
  {
   "cell_type": "code",
   "execution_count": null,
   "id": "5a240cf9",
   "metadata": {},
   "outputs": [],
   "source": [
    "sites_df = pd.read_csv('../data/Site_Data.csv', nrows=25722)"
   ]
  },
  {
   "cell_type": "code",
   "execution_count": null,
   "id": "b43cf3c2",
   "metadata": {
    "scrolled": true
   },
   "outputs": [],
   "source": [
    "sites_df"
   ]
  },
  {
   "cell_type": "code",
   "execution_count": null,
   "id": "9ace9ab6",
   "metadata": {},
   "outputs": [],
   "source": [
    "sites_df.dtypes"
   ]
  },
  {
   "cell_type": "code",
   "execution_count": null,
   "id": "a9459471",
   "metadata": {},
   "outputs": [],
   "source": [
    "sites_df.shape"
   ]
  },
  {
   "cell_type": "markdown",
   "id": "03a5191d",
   "metadata": {},
   "source": [
    "Count of recorded archaeological sites per county in TN"
   ]
  },
  {
   "cell_type": "code",
   "execution_count": null,
   "id": "aada0477",
   "metadata": {},
   "outputs": [],
   "source": [
    "counties = sites_df.County.value_counts()\n",
    "counties"
   ]
  },
  {
   "cell_type": "code",
   "execution_count": null,
   "id": "63513e59",
   "metadata": {},
   "outputs": [],
   "source": [
    "ownership = sites_df.Ownership.value_counts()\n",
    "ownership"
   ]
  },
  {
   "cell_type": "code",
   "execution_count": null,
   "id": "751f15f2",
   "metadata": {},
   "outputs": [],
   "source": [
    "prehistoric_types = sites_df.PrehType.value_counts()\n",
    "prehistoric_types"
   ]
  },
  {
   "cell_type": "code",
   "execution_count": null,
   "id": "1e878efe",
   "metadata": {},
   "outputs": [],
   "source": [
    "historic_types = sites_df.HistType.value_counts()\n",
    "historic_types"
   ]
  },
  {
   "cell_type": "code",
   "execution_count": null,
   "id": "c6064dea",
   "metadata": {},
   "outputs": [],
   "source": [
    "physical_division = sites_df.PhysioDiv.value_counts()\n",
    "physical_division"
   ]
  },
  {
   "cell_type": "code",
   "execution_count": null,
   "id": "b36bf141",
   "metadata": {},
   "outputs": [],
   "source": [
    "land_use = sites_df.LandUse.value_counts()\n",
    "land_use"
   ]
  },
  {
   "cell_type": "code",
   "execution_count": null,
   "id": "f23a2662",
   "metadata": {},
   "outputs": [],
   "source": [
    "reporter_type = sites_df.RptrType.value_counts()\n",
    "reporter_type"
   ]
  },
  {
   "cell_type": "code",
   "execution_count": null,
   "id": "b04c60a3",
   "metadata": {},
   "outputs": [],
   "source": [
    "sites_df['PrehType'].unique()"
   ]
  },
  {
   "cell_type": "code",
   "execution_count": null,
   "id": "8d727b08",
   "metadata": {},
   "outputs": [],
   "source": [
    "sites_df['HistType'].unique()"
   ]
  },
  {
   "cell_type": "code",
   "execution_count": null,
   "id": "b2c1f748",
   "metadata": {},
   "outputs": [],
   "source": [
    "survey_level = sites_df.SurvLevel.value_counts()\n",
    "survey_level"
   ]
  },
  {
   "cell_type": "code",
   "execution_count": null,
   "id": "3b74fa82",
   "metadata": {},
   "outputs": [],
   "source": []
  },
  {
   "cell_type": "code",
   "execution_count": null,
   "id": "bae164f7",
   "metadata": {},
   "outputs": [],
   "source": []
  }
 ],
 "metadata": {
  "kernelspec": {
   "display_name": "Python 3 (ipykernel)",
   "language": "python",
   "name": "python3"
  },
  "language_info": {
   "codemirror_mode": {
    "name": "ipython",
    "version": 3
   },
   "file_extension": ".py",
   "mimetype": "text/x-python",
   "name": "python",
   "nbconvert_exporter": "python",
   "pygments_lexer": "ipython3",
   "version": "3.9.12"
  }
 },
 "nbformat": 4,
 "nbformat_minor": 5
}
