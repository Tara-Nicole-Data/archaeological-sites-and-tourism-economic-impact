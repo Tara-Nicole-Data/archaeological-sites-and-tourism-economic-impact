{
 "cells": [
  {
   "cell_type": "code",
   "execution_count": null,
   "id": "c0886088",
   "metadata": {},
   "outputs": [],
   "source": [
    "import pandas as pd"
   ]
  },
  {
   "cell_type": "code",
   "execution_count": null,
   "id": "5a240cf9",
   "metadata": {},
   "outputs": [],
   "source": [
    "sites_df = pd.read_csv('../data/Site_Data.csv', nrows=25722)"
   ]
  },
  {
   "cell_type": "code",
   "execution_count": null,
   "id": "b43cf3c2",
   "metadata": {
    "scrolled": true
   },
   "outputs": [],
   "source": [
    "sites_df"
   ]
  },
  {
   "cell_type": "code",
   "execution_count": null,
   "id": "9ace9ab6",
   "metadata": {},
   "outputs": [],
   "source": [
    "sites_df.dtypes"
   ]
  },
  {
   "cell_type": "code",
   "execution_count": null,
   "id": "a9459471",
   "metadata": {},
   "outputs": [],
   "source": [
    "sites_df.shape"
   ]
  },
  {
   "cell_type": "markdown",
   "id": "03a5191d",
   "metadata": {},
   "source": [
    "Count of recorded archaeological sites per county in TN"
   ]
  },
  {
   "cell_type": "code",
   "execution_count": null,
   "id": "aada0477",
   "metadata": {},
   "outputs": [],
   "source": [
    "counties = sites_df.County.value_counts()"
   ]
  },
  {
   "cell_type": "code",
   "execution_count": null,
   "id": "d33612bc",
   "metadata": {},
   "outputs": [],
   "source": [
    "counties"
   ]
  },
  {
   "cell_type": "code",
   "execution_count": null,
   "id": "63513e59",
   "metadata": {},
   "outputs": [],
   "source": []
  }
 ],
 "metadata": {
  "kernelspec": {
   "display_name": "Python 3 (ipykernel)",
   "language": "python",
   "name": "python3"
  },
  "language_info": {
   "codemirror_mode": {
    "name": "ipython",
    "version": 3
   },
   "file_extension": ".py",
   "mimetype": "text/x-python",
   "name": "python",
   "nbconvert_exporter": "python",
   "pygments_lexer": "ipython3",
   "version": "3.9.12"
  }
 },
 "nbformat": 4,
 "nbformat_minor": 5
}
