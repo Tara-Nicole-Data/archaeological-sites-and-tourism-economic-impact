{
 "cells": [
  {
   "cell_type": "code",
   "execution_count": 1,
   "id": "c0886088",
   "metadata": {},
   "outputs": [],
   "source": [
    "import pandas as pd\n",
    "import numpy as np\n",
    "import matplotlib.pyplot as plt\n",
    "import seaborn as sns"
   ]
  },
  {
   "cell_type": "code",
   "execution_count": 2,
   "id": "5a240cf9",
   "metadata": {},
   "outputs": [],
   "source": [
    "sites_df = pd.read_csv('../data/Site_Data.csv', nrows=25722)"
   ]
  },
  {
   "cell_type": "code",
   "execution_count": null,
   "id": "b43cf3c2",
   "metadata": {
    "scrolled": true
   },
   "outputs": [],
   "source": [
    "sites_df"
   ]
  },
  {
   "cell_type": "code",
   "execution_count": 3,
   "id": "9ace9ab6",
   "metadata": {},
   "outputs": [
    {
     "data": {
      "text/plain": [
       "FID            int64\n",
       "AssignedDa    object\n",
       "SurvDate      object\n",
       "County        object\n",
       "HistType      object\n",
       "PrehType      object\n",
       "Ownership     object\n",
       "PhysioDiv     object\n",
       "Boundary      object\n",
       "LandUse       object\n",
       "Disturbanc    object\n",
       "RptrType      object\n",
       "SurvLevel     object\n",
       "dtype: object"
      ]
     },
     "execution_count": 3,
     "metadata": {},
     "output_type": "execute_result"
    }
   ],
   "source": [
    "sites_df.dtypes"
   ]
  },
  {
   "cell_type": "code",
   "execution_count": 4,
   "id": "a9459471",
   "metadata": {},
   "outputs": [
    {
     "data": {
      "text/plain": [
       "(25721, 13)"
      ]
     },
     "execution_count": 4,
     "metadata": {},
     "output_type": "execute_result"
    }
   ],
   "source": [
    "sites_df.shape"
   ]
  },
  {
   "cell_type": "markdown",
   "id": "03a5191d",
   "metadata": {},
   "source": [
    "### Count of recorded archaeological sites per county in TN"
   ]
  },
  {
   "cell_type": "code",
   "execution_count": 5,
   "id": "aada0477",
   "metadata": {},
   "outputs": [
    {
     "data": {
      "text/plain": [
       "Montgomery    1265\n",
       "Stewart        771\n",
       "Shelby         764\n",
       "Monroe         742\n",
       "Davidson       690\n",
       "              ... \n",
       "Lewis           42\n",
       "Crockett        27\n",
       "Hancock         20\n",
       "                 4\n",
       "DV               3\n",
       "Name: County, Length: 97, dtype: int64"
      ]
     },
     "execution_count": 5,
     "metadata": {},
     "output_type": "execute_result"
    }
   ],
   "source": [
    "counties = sites_df.County.value_counts()\n",
    "counties"
   ]
  },
  {
   "cell_type": "code",
   "execution_count": 6,
   "id": "bb52b72a",
   "metadata": {},
   "outputs": [
    {
     "data": {
      "text/html": [
       "<div>\n",
       "<style scoped>\n",
       "    .dataframe tbody tr th:only-of-type {\n",
       "        vertical-align: middle;\n",
       "    }\n",
       "\n",
       "    .dataframe tbody tr th {\n",
       "        vertical-align: top;\n",
       "    }\n",
       "\n",
       "    .dataframe thead th {\n",
       "        text-align: right;\n",
       "    }\n",
       "</style>\n",
       "<table border=\"1\" class=\"dataframe\">\n",
       "  <thead>\n",
       "    <tr style=\"text-align: right;\">\n",
       "      <th></th>\n",
       "      <th>index</th>\n",
       "      <th>County</th>\n",
       "    </tr>\n",
       "  </thead>\n",
       "  <tbody>\n",
       "    <tr>\n",
       "      <th>0</th>\n",
       "      <td>Montgomery</td>\n",
       "      <td>1265</td>\n",
       "    </tr>\n",
       "    <tr>\n",
       "      <th>1</th>\n",
       "      <td>Stewart</td>\n",
       "      <td>771</td>\n",
       "    </tr>\n",
       "    <tr>\n",
       "      <th>2</th>\n",
       "      <td>Shelby</td>\n",
       "      <td>764</td>\n",
       "    </tr>\n",
       "    <tr>\n",
       "      <th>3</th>\n",
       "      <td>Monroe</td>\n",
       "      <td>742</td>\n",
       "    </tr>\n",
       "    <tr>\n",
       "      <th>4</th>\n",
       "      <td>Davidson</td>\n",
       "      <td>690</td>\n",
       "    </tr>\n",
       "    <tr>\n",
       "      <th>...</th>\n",
       "      <td>...</td>\n",
       "      <td>...</td>\n",
       "    </tr>\n",
       "    <tr>\n",
       "      <th>92</th>\n",
       "      <td>Lewis</td>\n",
       "      <td>42</td>\n",
       "    </tr>\n",
       "    <tr>\n",
       "      <th>93</th>\n",
       "      <td>Crockett</td>\n",
       "      <td>27</td>\n",
       "    </tr>\n",
       "    <tr>\n",
       "      <th>94</th>\n",
       "      <td>Hancock</td>\n",
       "      <td>20</td>\n",
       "    </tr>\n",
       "    <tr>\n",
       "      <th>95</th>\n",
       "      <td></td>\n",
       "      <td>4</td>\n",
       "    </tr>\n",
       "    <tr>\n",
       "      <th>96</th>\n",
       "      <td>DV</td>\n",
       "      <td>3</td>\n",
       "    </tr>\n",
       "  </tbody>\n",
       "</table>\n",
       "<p>97 rows × 2 columns</p>\n",
       "</div>"
      ],
      "text/plain": [
       "         index  County\n",
       "0   Montgomery    1265\n",
       "1      Stewart     771\n",
       "2       Shelby     764\n",
       "3       Monroe     742\n",
       "4     Davidson     690\n",
       "..         ...     ...\n",
       "92       Lewis      42\n",
       "93    Crockett      27\n",
       "94     Hancock      20\n",
       "95                   4\n",
       "96          DV       3\n",
       "\n",
       "[97 rows x 2 columns]"
      ]
     },
     "execution_count": 6,
     "metadata": {},
     "output_type": "execute_result"
    }
   ],
   "source": [
    "counties = counties.reset_index()\n",
    "counties"
   ]
  },
  {
   "cell_type": "code",
   "execution_count": 7,
   "id": "9f1fb4fb",
   "metadata": {},
   "outputs": [
    {
     "data": {
      "text/html": [
       "<div>\n",
       "<style scoped>\n",
       "    .dataframe tbody tr th:only-of-type {\n",
       "        vertical-align: middle;\n",
       "    }\n",
       "\n",
       "    .dataframe tbody tr th {\n",
       "        vertical-align: top;\n",
       "    }\n",
       "\n",
       "    .dataframe thead th {\n",
       "        text-align: right;\n",
       "    }\n",
       "</style>\n",
       "<table border=\"1\" class=\"dataframe\">\n",
       "  <thead>\n",
       "    <tr style=\"text-align: right;\">\n",
       "      <th></th>\n",
       "      <th>county</th>\n",
       "      <th>recorded_sites</th>\n",
       "    </tr>\n",
       "  </thead>\n",
       "  <tbody>\n",
       "    <tr>\n",
       "      <th>0</th>\n",
       "      <td>Montgomery</td>\n",
       "      <td>1265</td>\n",
       "    </tr>\n",
       "    <tr>\n",
       "      <th>1</th>\n",
       "      <td>Stewart</td>\n",
       "      <td>771</td>\n",
       "    </tr>\n",
       "    <tr>\n",
       "      <th>2</th>\n",
       "      <td>Shelby</td>\n",
       "      <td>764</td>\n",
       "    </tr>\n",
       "    <tr>\n",
       "      <th>3</th>\n",
       "      <td>Monroe</td>\n",
       "      <td>742</td>\n",
       "    </tr>\n",
       "    <tr>\n",
       "      <th>4</th>\n",
       "      <td>Davidson</td>\n",
       "      <td>690</td>\n",
       "    </tr>\n",
       "    <tr>\n",
       "      <th>...</th>\n",
       "      <td>...</td>\n",
       "      <td>...</td>\n",
       "    </tr>\n",
       "    <tr>\n",
       "      <th>92</th>\n",
       "      <td>Lewis</td>\n",
       "      <td>42</td>\n",
       "    </tr>\n",
       "    <tr>\n",
       "      <th>93</th>\n",
       "      <td>Crockett</td>\n",
       "      <td>27</td>\n",
       "    </tr>\n",
       "    <tr>\n",
       "      <th>94</th>\n",
       "      <td>Hancock</td>\n",
       "      <td>20</td>\n",
       "    </tr>\n",
       "    <tr>\n",
       "      <th>95</th>\n",
       "      <td></td>\n",
       "      <td>4</td>\n",
       "    </tr>\n",
       "    <tr>\n",
       "      <th>96</th>\n",
       "      <td>DV</td>\n",
       "      <td>3</td>\n",
       "    </tr>\n",
       "  </tbody>\n",
       "</table>\n",
       "<p>97 rows × 2 columns</p>\n",
       "</div>"
      ],
      "text/plain": [
       "        county  recorded_sites\n",
       "0   Montgomery            1265\n",
       "1      Stewart             771\n",
       "2       Shelby             764\n",
       "3       Monroe             742\n",
       "4     Davidson             690\n",
       "..         ...             ...\n",
       "92       Lewis              42\n",
       "93    Crockett              27\n",
       "94     Hancock              20\n",
       "95                           4\n",
       "96          DV               3\n",
       "\n",
       "[97 rows x 2 columns]"
      ]
     },
     "execution_count": 7,
     "metadata": {},
     "output_type": "execute_result"
    }
   ],
   "source": [
    "counties = counties.rename(columns={\"index\": \"county\", \"County\": \"recorded_sites\"})\n",
    "counties"
   ]
  },
  {
   "cell_type": "code",
   "execution_count": 8,
   "id": "ce7d9567",
   "metadata": {},
   "outputs": [
    {
     "data": {
      "text/html": [
       "<div>\n",
       "<style scoped>\n",
       "    .dataframe tbody tr th:only-of-type {\n",
       "        vertical-align: middle;\n",
       "    }\n",
       "\n",
       "    .dataframe tbody tr th {\n",
       "        vertical-align: top;\n",
       "    }\n",
       "\n",
       "    .dataframe thead th {\n",
       "        text-align: right;\n",
       "    }\n",
       "</style>\n",
       "<table border=\"1\" class=\"dataframe\">\n",
       "  <thead>\n",
       "    <tr style=\"text-align: right;\">\n",
       "      <th></th>\n",
       "      <th>county</th>\n",
       "      <th>recorded_sites</th>\n",
       "    </tr>\n",
       "  </thead>\n",
       "  <tbody>\n",
       "    <tr>\n",
       "      <th>0</th>\n",
       "      <td>Montgomery</td>\n",
       "      <td>1265</td>\n",
       "    </tr>\n",
       "    <tr>\n",
       "      <th>1</th>\n",
       "      <td>Stewart</td>\n",
       "      <td>771</td>\n",
       "    </tr>\n",
       "    <tr>\n",
       "      <th>2</th>\n",
       "      <td>Shelby</td>\n",
       "      <td>764</td>\n",
       "    </tr>\n",
       "    <tr>\n",
       "      <th>3</th>\n",
       "      <td>Monroe</td>\n",
       "      <td>742</td>\n",
       "    </tr>\n",
       "    <tr>\n",
       "      <th>4</th>\n",
       "      <td>Davidson</td>\n",
       "      <td>690</td>\n",
       "    </tr>\n",
       "    <tr>\n",
       "      <th>...</th>\n",
       "      <td>...</td>\n",
       "      <td>...</td>\n",
       "    </tr>\n",
       "    <tr>\n",
       "      <th>90</th>\n",
       "      <td>Macon</td>\n",
       "      <td>44</td>\n",
       "    </tr>\n",
       "    <tr>\n",
       "      <th>91</th>\n",
       "      <td>Moore</td>\n",
       "      <td>43</td>\n",
       "    </tr>\n",
       "    <tr>\n",
       "      <th>92</th>\n",
       "      <td>Lewis</td>\n",
       "      <td>42</td>\n",
       "    </tr>\n",
       "    <tr>\n",
       "      <th>93</th>\n",
       "      <td>Crockett</td>\n",
       "      <td>27</td>\n",
       "    </tr>\n",
       "    <tr>\n",
       "      <th>94</th>\n",
       "      <td>Hancock</td>\n",
       "      <td>20</td>\n",
       "    </tr>\n",
       "  </tbody>\n",
       "</table>\n",
       "<p>95 rows × 2 columns</p>\n",
       "</div>"
      ],
      "text/plain": [
       "        county  recorded_sites\n",
       "0   Montgomery            1265\n",
       "1      Stewart             771\n",
       "2       Shelby             764\n",
       "3       Monroe             742\n",
       "4     Davidson             690\n",
       "..         ...             ...\n",
       "90       Macon              44\n",
       "91       Moore              43\n",
       "92       Lewis              42\n",
       "93    Crockett              27\n",
       "94     Hancock              20\n",
       "\n",
       "[95 rows x 2 columns]"
      ]
     },
     "execution_count": 8,
     "metadata": {},
     "output_type": "execute_result"
    }
   ],
   "source": [
    "counties_2 = counties.drop(index=[95,96], axis=0)\n",
    "counties_2"
   ]
  },
  {
   "cell_type": "code",
   "execution_count": 15,
   "id": "61df8e22",
   "metadata": {},
   "outputs": [
    {
     "data": {
      "text/plain": [
       "<Figure size 1440x1440 with 0 Axes>"
      ]
     },
     "execution_count": 15,
     "metadata": {},
     "output_type": "execute_result"
    },
    {
     "data": {
      "image/png": "[encoded data removed]",
      "text/plain": [
       "<Figure size 432x288 with 1 Axes>"
      ]
     },
     "metadata": {
      "needs_background": "light"
     },
     "output_type": "display_data"
    },
    {
     "data": {
      "text/plain": [
       "<Figure size 1440x1440 with 0 Axes>"
      ]
     },
     "metadata": {},
     "output_type": "display_data"
    }
   ],
   "source": [
    "sns.barplot(data=counties_2, x='county', y='recorded_sites')\n",
    "plt.xticks(rotation=90)\n",
    "plt.figure(figsize=(20,20))"
   ]
  },
  {
   "cell_type": "markdown",
   "id": "90897490",
   "metadata": {},
   "source": [
    "### count of sites by owner type"
   ]
  },
  {
   "cell_type": "code",
   "execution_count": null,
   "id": "63513e59",
   "metadata": {},
   "outputs": [],
   "source": [
    "#value counts of sites by owner type\n",
    "ownership = sites_df.Ownership.value_counts()\n",
    "ownership"
   ]
  },
  {
   "cell_type": "code",
   "execution_count": null,
   "id": "43917b1f",
   "metadata": {},
   "outputs": [],
   "source": [
    "#turn into dataframe\n",
    "pd.DataFrame(data = ownership)"
   ]
  },
  {
   "cell_type": "code",
   "execution_count": null,
   "id": "27973d6e",
   "metadata": {},
   "outputs": [],
   "source": [
    "#reset the index\n",
    "ownership = ownership.reset_index()\n",
    "ownership"
   ]
  },
  {
   "cell_type": "code",
   "execution_count": null,
   "id": "b80096d4",
   "metadata": {},
   "outputs": [],
   "source": [
    "#rename columns\n",
    "ownership = ownership.rename(columns={\"index\": \"owner_type\", \"Ownership\": \"recorded_sites\"})\n",
    "ownership"
   ]
  },
  {
   "cell_type": "code",
   "execution_count": null,
   "id": "68a8c86f",
   "metadata": {},
   "outputs": [],
   "source": [
    "#replace blank values with \"unknown\"\n",
    "ownership = ownership.replace(' ', 'unknown')\n",
    "ownership"
   ]
  },
  {
   "cell_type": "code",
   "execution_count": null,
   "id": "fb20dce5",
   "metadata": {},
   "outputs": [],
   "source": [
    "#rename federal government rows\n",
    "ownership = ownership.replace('federal', 'federal gov')\n",
    "ownership"
   ]
  },
  {
   "cell_type": "code",
   "execution_count": null,
   "id": "110518af",
   "metadata": {},
   "outputs": [],
   "source": [
    "#rename local government rows\n",
    "ownership = ownership.replace('Local', 'local gov')\n",
    "ownership"
   ]
  },
  {
   "cell_type": "code",
   "execution_count": null,
   "id": "e8d0caa9",
   "metadata": {},
   "outputs": [],
   "source": [
    "#group owner_type column by unique values and sum identical owner_types together\n",
    "ownership = ownership.groupby(by=\"owner_type\").sum('recorded_sites')\n",
    "ownership"
   ]
  },
  {
   "cell_type": "code",
   "execution_count": null,
   "id": "44887b4f",
   "metadata": {},
   "outputs": [],
   "source": [
    "#sort recorded sites in descending order\n",
    "ownership = ownership.sort_values(by=\"recorded_sites\", ascending = False)\n",
    "ownership"
   ]
  },
  {
   "cell_type": "code",
   "execution_count": null,
   "id": "29d139d6",
   "metadata": {},
   "outputs": [],
   "source": [
    "#reset index\n",
    "ownership = ownership.reset_index()\n",
    "ownership"
   ]
  },
  {
   "cell_type": "code",
   "execution_count": null,
   "id": "00b02c80",
   "metadata": {},
   "outputs": [],
   "source": [
    "sns.barplot(data = ownership, x = \"owner_type\", y = \"recorded_sites\")"
   ]
  },
  {
   "cell_type": "markdown",
   "id": "7d381928",
   "metadata": {},
   "source": [
    "### count of sites by prehistoric site type"
   ]
  },
  {
   "cell_type": "code",
   "execution_count": null,
   "id": "751f15f2",
   "metadata": {},
   "outputs": [],
   "source": [
    "prehistoric_types = sites_df.PrehType.value_counts()\n",
    "prehistoric_types"
   ]
  },
  {
   "cell_type": "markdown",
   "id": "9284f2f3",
   "metadata": {},
   "source": [
    "### count of sites by historic site type"
   ]
  },
  {
   "cell_type": "code",
   "execution_count": null,
   "id": "1e878efe",
   "metadata": {},
   "outputs": [],
   "source": [
    "historic_types = sites_df.HistType.value_counts()\n",
    "historic_types"
   ]
  },
  {
   "cell_type": "markdown",
   "id": "3a37ff50",
   "metadata": {},
   "source": [
    "### count of sites by physical division"
   ]
  },
  {
   "cell_type": "code",
   "execution_count": null,
   "id": "c6064dea",
   "metadata": {},
   "outputs": [],
   "source": [
    "physical_division = sites_df.PhysioDiv.value_counts()\n",
    "physical_division"
   ]
  },
  {
   "cell_type": "code",
   "execution_count": null,
   "id": "8ee73a4f",
   "metadata": {},
   "outputs": [],
   "source": [
    "pd.DataFrame(data = physical_division)"
   ]
  },
  {
   "cell_type": "code",
   "execution_count": null,
   "id": "ed58a45b",
   "metadata": {},
   "outputs": [],
   "source": [
    "physical_division = physical_division.reset_index()\n",
    "physical_division"
   ]
  },
  {
   "cell_type": "code",
   "execution_count": null,
   "id": "fc53b266",
   "metadata": {},
   "outputs": [],
   "source": [
    "physical_division = physical_division.rename(columns={\"index\": \"physical_division\", \"PhysioDiv\": \"recorded_sites\"})\n",
    "physical_division"
   ]
  },
  {
   "cell_type": "code",
   "execution_count": null,
   "id": "fd93af09",
   "metadata": {},
   "outputs": [],
   "source": [
    "physical_division = physical_division.replace(\" \", \"unknown\")\n",
    "physical_division"
   ]
  },
  {
   "cell_type": "code",
   "execution_count": null,
   "id": "ce1bbb3a",
   "metadata": {},
   "outputs": [],
   "source": [
    "sns.barplot(data = physical_division, x = \"physical_division\", y = \"recorded_sites\")\n",
    "plt.xticks(rotation = 90)"
   ]
  },
  {
   "cell_type": "markdown",
   "id": "da12fd88",
   "metadata": {},
   "source": [
    "### count of sites by land use type"
   ]
  },
  {
   "cell_type": "code",
   "execution_count": null,
   "id": "b36bf141",
   "metadata": {},
   "outputs": [],
   "source": [
    "land_use = sites_df.LandUse.value_counts()\n",
    "land_use"
   ]
  },
  {
   "cell_type": "code",
   "execution_count": null,
   "id": "3036a459",
   "metadata": {},
   "outputs": [],
   "source": [
    "pd.DataFrame(data = land_use)"
   ]
  },
  {
   "cell_type": "code",
   "execution_count": null,
   "id": "b1327ca3",
   "metadata": {},
   "outputs": [],
   "source": [
    "land_use = land_use.reset_index()\n",
    "land_use"
   ]
  },
  {
   "cell_type": "code",
   "execution_count": null,
   "id": "a7c592a4",
   "metadata": {},
   "outputs": [],
   "source": [
    "land_use = land_use.rename(columns={\"index\": \"land_use\", \"LandUse\": \"recorded_sites\"})\n",
    "land_use"
   ]
  },
  {
   "cell_type": "code",
   "execution_count": null,
   "id": "40c1520a",
   "metadata": {},
   "outputs": [],
   "source": [
    "land_use = land_use.replace(\" \", \"other\")\n",
    "land_use"
   ]
  },
  {
   "cell_type": "code",
   "execution_count": null,
   "id": "42f9d407",
   "metadata": {},
   "outputs": [],
   "source": [
    "land_use = land_use.replace(\"s\", \"other\")\n",
    "land_use"
   ]
  },
  {
   "cell_type": "code",
   "execution_count": null,
   "id": "ce2e3292",
   "metadata": {},
   "outputs": [],
   "source": [
    "land_use = land_use.replace(\"Other\", \"other\")\n",
    "land_use"
   ]
  },
  {
   "cell_type": "code",
   "execution_count": null,
   "id": "1deef1db",
   "metadata": {},
   "outputs": [],
   "source": [
    "land_use = land_use.groupby(by=\"land_use\").sum('recorded_sites')\n",
    "land_use"
   ]
  },
  {
   "cell_type": "code",
   "execution_count": null,
   "id": "1d6b445e",
   "metadata": {},
   "outputs": [],
   "source": [
    "land_use = land_use.reset_index()\n",
    "land_use"
   ]
  },
  {
   "cell_type": "code",
   "execution_count": null,
   "id": "16c4a39e",
   "metadata": {},
   "outputs": [],
   "source": [
    "land_use = land_use.sort_values(by = 'recorded_sites', ascending = False)\n",
    "land_use"
   ]
  },
  {
   "cell_type": "code",
   "execution_count": null,
   "id": "4364a7d9",
   "metadata": {},
   "outputs": [],
   "source": [
    "sns.barplot(data = land_use, x = \"land_use\", y = \"recorded_sites\")\n",
    "plt.xticks(rotation = 90)\n"
   ]
  },
  {
   "cell_type": "markdown",
   "id": "61a86f79",
   "metadata": {},
   "source": [
    "### count of sites by reporter type"
   ]
  },
  {
   "cell_type": "code",
   "execution_count": null,
   "id": "f23a2662",
   "metadata": {},
   "outputs": [],
   "source": [
    "reporter_type = sites_df.RptrType.value_counts()\n",
    "reporter_type"
   ]
  },
  {
   "cell_type": "code",
   "execution_count": null,
   "id": "87af75d4",
   "metadata": {},
   "outputs": [],
   "source": [
    "pd.DataFrame(data=reporter_type)"
   ]
  },
  {
   "cell_type": "code",
   "execution_count": null,
   "id": "c84c12d0",
   "metadata": {},
   "outputs": [],
   "source": [
    "reporter_type = reporter_type.reset_index()\n",
    "reporter_type"
   ]
  },
  {
   "cell_type": "code",
   "execution_count": null,
   "id": "9313fe88",
   "metadata": {},
   "outputs": [],
   "source": [
    "reporter_type = reporter_type.rename(columns={\"index\": \"reporter_type\", \"RptrType\": \"recorded_sites\"})\n",
    "reporter_type"
   ]
  },
  {
   "cell_type": "code",
   "execution_count": null,
   "id": "bb1dc261",
   "metadata": {},
   "outputs": [],
   "source": [
    "reporter_type = reporter_type.replace(\" \", \"unknown\")\n",
    "reporter_type"
   ]
  },
  {
   "cell_type": "code",
   "execution_count": null,
   "id": "3115f911",
   "metadata": {},
   "outputs": [],
   "source": [
    "sns.barplot(data = reporter_type, \n",
    "           x = \"reporter_type\", \n",
    "           y = \"recorded_sites\")\n",
    "plt.xticks(rotation = 90)"
   ]
  },
  {
   "cell_type": "markdown",
   "id": "dd36a9d2",
   "metadata": {},
   "source": [
    "### count of sites by survey level"
   ]
  },
  {
   "cell_type": "code",
   "execution_count": null,
   "id": "b2c1f748",
   "metadata": {},
   "outputs": [],
   "source": [
    "survey_level = sites_df.SurvLevel.value_counts()\n",
    "survey_level"
   ]
  },
  {
   "cell_type": "code",
   "execution_count": null,
   "id": "3b74fa82",
   "metadata": {},
   "outputs": [],
   "source": [
    "pd.DataFrame(data = survey_level)"
   ]
  },
  {
   "cell_type": "code",
   "execution_count": null,
   "id": "bae164f7",
   "metadata": {},
   "outputs": [],
   "source": [
    "survey_level = survey_level.reset_index()\n",
    "survey_level"
   ]
  },
  {
   "cell_type": "code",
   "execution_count": null,
   "id": "b4cd7ca7",
   "metadata": {},
   "outputs": [],
   "source": [
    "survey_level = survey_level.rename(columns={\"index\": \"survey_level\", \"SurvLevel\": \"recorded_sites\"})\n",
    "survey_level"
   ]
  },
  {
   "cell_type": "code",
   "execution_count": null,
   "id": "e65dbf2d",
   "metadata": {},
   "outputs": [],
   "source": [
    "survey_level = survey_level.replace(\" \", \"unknown\")\n",
    "survey_level"
   ]
  },
  {
   "cell_type": "code",
   "execution_count": null,
   "id": "d2a7e29c",
   "metadata": {},
   "outputs": [],
   "source": [
    "sns.barplot(data = survey_level, \n",
    "           x = \"survey_level\", \n",
    "           y = \"recorded_sites\")\n",
    "plt.xticks(rotation = 90)"
   ]
  },
  {
   "cell_type": "code",
   "execution_count": null,
   "id": "0f6a12fb",
   "metadata": {},
   "outputs": [],
   "source": []
  }
 ],
 "metadata": {
  "kernelspec": {
   "display_name": "Python 3 (ipykernel)",
   "language": "python",
   "name": "python3"
  },
  "language_info": {
   "codemirror_mode": {
    "name": "ipython",
    "version": 3
   },
   "file_extension": ".py",
   "mimetype": "text/x-python",
   "name": "python",
   "nbconvert_exporter": "python",
   "pygments_lexer": "ipython3",
   "version": "3.9.12"
  }
 },
 "nbformat": 4,
 "nbformat_minor": 5
}
