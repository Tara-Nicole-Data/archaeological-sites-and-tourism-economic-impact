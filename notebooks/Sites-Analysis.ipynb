{
 "cells": [
  {
   "cell_type": "code",
   "execution_count": 1,
   "id": "c0886088",
   "metadata": {},
   "outputs": [],
   "source": [
    "import pandas as pd\n",
    "import numpy as np\n",
    "import matplotlib.pyplot as plt\n",
    "import seaborn as sns"
   ]
  },
  {
   "cell_type": "code",
   "execution_count": 2,
   "id": "5a240cf9",
   "metadata": {},
   "outputs": [],
   "source": [
    "sites_df = pd.read_csv('../data/Site_Data.csv', nrows=25722)"
   ]
  },
  {
   "cell_type": "code",
   "execution_count": null,
   "id": "9ace9ab6",
   "metadata": {},
   "outputs": [],
   "source": [
    "sites_df.dtypes"
   ]
  },
  {
   "cell_type": "code",
   "execution_count": null,
   "id": "a9459471",
   "metadata": {},
   "outputs": [],
   "source": [
    "sites_df.shape"
   ]
  },
  {
   "cell_type": "code",
   "execution_count": 3,
   "id": "1e3264bc",
   "metadata": {},
   "outputs": [
    {
     "data": {
      "text/html": [
       "<div>\n",
       "<style scoped>\n",
       "    .dataframe tbody tr th:only-of-type {\n",
       "        vertical-align: middle;\n",
       "    }\n",
       "\n",
       "    .dataframe tbody tr th {\n",
       "        vertical-align: top;\n",
       "    }\n",
       "\n",
       "    .dataframe thead th {\n",
       "        text-align: right;\n",
       "    }\n",
       "</style>\n",
       "<table border=\"1\" class=\"dataframe\">\n",
       "  <thead>\n",
       "    <tr style=\"text-align: right;\">\n",
       "      <th></th>\n",
       "      <th>County</th>\n",
       "      <th>RptrType</th>\n",
       "    </tr>\n",
       "  </thead>\n",
       "  <tbody>\n",
       "    <tr>\n",
       "      <th>0</th>\n",
       "      <td>Anderson</td>\n",
       "      <td>Educational Institution</td>\n",
       "    </tr>\n",
       "    <tr>\n",
       "      <th>1</th>\n",
       "      <td>Anderson</td>\n",
       "      <td>Avocational Archaeologist</td>\n",
       "    </tr>\n",
       "    <tr>\n",
       "      <th>2</th>\n",
       "      <td>Anderson</td>\n",
       "      <td>Avocational Archaeologist</td>\n",
       "    </tr>\n",
       "    <tr>\n",
       "      <th>3</th>\n",
       "      <td>Anderson</td>\n",
       "      <td>Educational Institution</td>\n",
       "    </tr>\n",
       "    <tr>\n",
       "      <th>4</th>\n",
       "      <td>Anderson</td>\n",
       "      <td>Educational Institution</td>\n",
       "    </tr>\n",
       "    <tr>\n",
       "      <th>...</th>\n",
       "      <td>...</td>\n",
       "      <td>...</td>\n",
       "    </tr>\n",
       "    <tr>\n",
       "      <th>25716</th>\n",
       "      <td>Union</td>\n",
       "      <td>Educational Institution</td>\n",
       "    </tr>\n",
       "    <tr>\n",
       "      <th>25717</th>\n",
       "      <td></td>\n",
       "      <td></td>\n",
       "    </tr>\n",
       "    <tr>\n",
       "      <th>25718</th>\n",
       "      <td></td>\n",
       "      <td></td>\n",
       "    </tr>\n",
       "    <tr>\n",
       "      <th>25719</th>\n",
       "      <td></td>\n",
       "      <td></td>\n",
       "    </tr>\n",
       "    <tr>\n",
       "      <th>25720</th>\n",
       "      <td></td>\n",
       "      <td></td>\n",
       "    </tr>\n",
       "  </tbody>\n",
       "</table>\n",
       "<p>25721 rows × 2 columns</p>\n",
       "</div>"
      ],
      "text/plain": [
       "         County                   RptrType\n",
       "0      Anderson    Educational Institution\n",
       "1      Anderson  Avocational Archaeologist\n",
       "2      Anderson  Avocational Archaeologist\n",
       "3      Anderson    Educational Institution\n",
       "4      Anderson    Educational Institution\n",
       "...         ...                        ...\n",
       "25716     Union    Educational Institution\n",
       "25717                                     \n",
       "25718                                     \n",
       "25719                                     \n",
       "25720                                     \n",
       "\n",
       "[25721 rows x 2 columns]"
      ]
     },
     "execution_count": 3,
     "metadata": {},
     "output_type": "execute_result"
    }
   ],
   "source": [
    "reporter_by_county = sites_df[['County', 'RptrType']]\n",
    "reporter_by_county"
   ]
  },
  {
   "cell_type": "code",
   "execution_count": 4,
   "id": "408bfe41",
   "metadata": {},
   "outputs": [
    {
     "data": {
      "text/html": [
       "<div>\n",
       "<style scoped>\n",
       "    .dataframe tbody tr th:only-of-type {\n",
       "        vertical-align: middle;\n",
       "    }\n",
       "\n",
       "    .dataframe tbody tr th {\n",
       "        vertical-align: top;\n",
       "    }\n",
       "\n",
       "    .dataframe thead th {\n",
       "        text-align: right;\n",
       "    }\n",
       "</style>\n",
       "<table border=\"1\" class=\"dataframe\">\n",
       "  <thead>\n",
       "    <tr style=\"text-align: right;\">\n",
       "      <th></th>\n",
       "      <th>County</th>\n",
       "      <th>ReporterType</th>\n",
       "    </tr>\n",
       "  </thead>\n",
       "  <tbody>\n",
       "    <tr>\n",
       "      <th>0</th>\n",
       "      <td>Anderson</td>\n",
       "      <td>Educational Institution</td>\n",
       "    </tr>\n",
       "    <tr>\n",
       "      <th>1</th>\n",
       "      <td>Anderson</td>\n",
       "      <td>Avocational Archaeologist</td>\n",
       "    </tr>\n",
       "    <tr>\n",
       "      <th>2</th>\n",
       "      <td>Anderson</td>\n",
       "      <td>Avocational Archaeologist</td>\n",
       "    </tr>\n",
       "    <tr>\n",
       "      <th>3</th>\n",
       "      <td>Anderson</td>\n",
       "      <td>Educational Institution</td>\n",
       "    </tr>\n",
       "    <tr>\n",
       "      <th>4</th>\n",
       "      <td>Anderson</td>\n",
       "      <td>Educational Institution</td>\n",
       "    </tr>\n",
       "    <tr>\n",
       "      <th>...</th>\n",
       "      <td>...</td>\n",
       "      <td>...</td>\n",
       "    </tr>\n",
       "    <tr>\n",
       "      <th>25716</th>\n",
       "      <td>Union</td>\n",
       "      <td>Educational Institution</td>\n",
       "    </tr>\n",
       "    <tr>\n",
       "      <th>25717</th>\n",
       "      <td></td>\n",
       "      <td></td>\n",
       "    </tr>\n",
       "    <tr>\n",
       "      <th>25718</th>\n",
       "      <td></td>\n",
       "      <td></td>\n",
       "    </tr>\n",
       "    <tr>\n",
       "      <th>25719</th>\n",
       "      <td></td>\n",
       "      <td></td>\n",
       "    </tr>\n",
       "    <tr>\n",
       "      <th>25720</th>\n",
       "      <td></td>\n",
       "      <td></td>\n",
       "    </tr>\n",
       "  </tbody>\n",
       "</table>\n",
       "<p>25721 rows × 2 columns</p>\n",
       "</div>"
      ],
      "text/plain": [
       "         County               ReporterType\n",
       "0      Anderson    Educational Institution\n",
       "1      Anderson  Avocational Archaeologist\n",
       "2      Anderson  Avocational Archaeologist\n",
       "3      Anderson    Educational Institution\n",
       "4      Anderson    Educational Institution\n",
       "...         ...                        ...\n",
       "25716     Union    Educational Institution\n",
       "25717                                     \n",
       "25718                                     \n",
       "25719                                     \n",
       "25720                                     \n",
       "\n",
       "[25721 rows x 2 columns]"
      ]
     },
     "execution_count": 4,
     "metadata": {},
     "output_type": "execute_result"
    }
   ],
   "source": [
    "reporter_county = reporter_by_county.rename(columns={\"RptrType\": \"ReporterType\"})\n",
    "reporter_county"
   ]
  },
  {
   "cell_type": "code",
   "execution_count": 5,
   "id": "a5bdf6a1",
   "metadata": {},
   "outputs": [
    {
     "data": {
      "text/plain": [
       "County    ReporterType                   \n",
       "                                               4\n",
       "Anderson                                       6\n",
       "          Avocational Archaeologist            5\n",
       "          Educational Institution            131\n",
       "          Government Agency                   18\n",
       "                                            ... \n",
       "Wilson    Avocational Archaeologist            6\n",
       "          Educational Institution              1\n",
       "          Government Agency                  176\n",
       "          Private Consultant                  62\n",
       "          Professional Volunteered Report      3\n",
       "Name: ReporterType, Length: 522, dtype: int64"
      ]
     },
     "execution_count": 5,
     "metadata": {},
     "output_type": "execute_result"
    }
   ],
   "source": [
    "reporter = reporter_county.groupby([\"County\", \"ReporterType\"])[\"ReporterType\"].count()\n",
    "reporter\n",
    "#result = df.groupby(['Courses','Fee'])['Courses'].count()"
   ]
  },
  {
   "cell_type": "code",
   "execution_count": 7,
   "id": "d2156e38",
   "metadata": {},
   "outputs": [
    {
     "data": {
      "text/html": [
       "<div>\n",
       "<style scoped>\n",
       "    .dataframe tbody tr th:only-of-type {\n",
       "        vertical-align: middle;\n",
       "    }\n",
       "\n",
       "    .dataframe tbody tr th {\n",
       "        vertical-align: top;\n",
       "    }\n",
       "\n",
       "    .dataframe thead th {\n",
       "        text-align: right;\n",
       "    }\n",
       "</style>\n",
       "<table border=\"1\" class=\"dataframe\">\n",
       "  <thead>\n",
       "    <tr style=\"text-align: right;\">\n",
       "      <th></th>\n",
       "      <th></th>\n",
       "      <th>ReporterType</th>\n",
       "    </tr>\n",
       "    <tr>\n",
       "      <th>County</th>\n",
       "      <th>ReporterType</th>\n",
       "      <th></th>\n",
       "    </tr>\n",
       "  </thead>\n",
       "  <tbody>\n",
       "    <tr>\n",
       "      <th></th>\n",
       "      <th></th>\n",
       "      <td>4</td>\n",
       "    </tr>\n",
       "    <tr>\n",
       "      <th rowspan=\"4\" valign=\"top\">Anderson</th>\n",
       "      <th></th>\n",
       "      <td>6</td>\n",
       "    </tr>\n",
       "    <tr>\n",
       "      <th>Avocational Archaeologist</th>\n",
       "      <td>5</td>\n",
       "    </tr>\n",
       "    <tr>\n",
       "      <th>Educational Institution</th>\n",
       "      <td>131</td>\n",
       "    </tr>\n",
       "    <tr>\n",
       "      <th>Government Agency</th>\n",
       "      <td>18</td>\n",
       "    </tr>\n",
       "    <tr>\n",
       "      <th>...</th>\n",
       "      <th>...</th>\n",
       "      <td>...</td>\n",
       "    </tr>\n",
       "    <tr>\n",
       "      <th rowspan=\"5\" valign=\"top\">Wilson</th>\n",
       "      <th>Avocational Archaeologist</th>\n",
       "      <td>6</td>\n",
       "    </tr>\n",
       "    <tr>\n",
       "      <th>Educational Institution</th>\n",
       "      <td>1</td>\n",
       "    </tr>\n",
       "    <tr>\n",
       "      <th>Government Agency</th>\n",
       "      <td>176</td>\n",
       "    </tr>\n",
       "    <tr>\n",
       "      <th>Private Consultant</th>\n",
       "      <td>62</td>\n",
       "    </tr>\n",
       "    <tr>\n",
       "      <th>Professional Volunteered Report</th>\n",
       "      <td>3</td>\n",
       "    </tr>\n",
       "  </tbody>\n",
       "</table>\n",
       "<p>522 rows × 1 columns</p>\n",
       "</div>"
      ],
      "text/plain": [
       "                                          ReporterType\n",
       "County   ReporterType                                 \n",
       "                                                     4\n",
       "Anderson                                             6\n",
       "         Avocational Archaeologist                   5\n",
       "         Educational Institution                   131\n",
       "         Government Agency                          18\n",
       "...                                                ...\n",
       "Wilson   Avocational Archaeologist                   6\n",
       "         Educational Institution                     1\n",
       "         Government Agency                         176\n",
       "         Private Consultant                         62\n",
       "         Professional Volunteered Report             3\n",
       "\n",
       "[522 rows x 1 columns]"
      ]
     },
     "execution_count": 7,
     "metadata": {},
     "output_type": "execute_result"
    }
   ],
   "source": [
    "#turn into dataframe\n",
    "pd.DataFrame(data = reporter)"
   ]
  },
  {
   "cell_type": "markdown",
   "id": "e8bde906",
   "metadata": {},
   "source": [
    "### Work on figuring out why the above dataframe won't reset index and download to a csv correctly"
   ]
  },
  {
   "cell_type": "code",
   "execution_count": 8,
   "id": "faed563e",
   "metadata": {},
   "outputs": [],
   "source": [
    "reporter.to_csv('reporter_by_county.csv', index=False)"
   ]
  },
  {
   "cell_type": "code",
   "execution_count": 10,
   "id": "09ceab2b",
   "metadata": {},
   "outputs": [
    {
     "name": "stdout",
     "output_type": "stream",
     "text": [
      "<class 'pandas.core.series.Series'>\n",
      "MultiIndex: 522 entries, (' ', ' ') to ('Wilson', 'Professional Volunteered Report')\n",
      "Series name: ReporterType\n",
      "Non-Null Count  Dtype\n",
      "--------------  -----\n",
      "522 non-null    int64\n",
      "dtypes: int64(1)\n",
      "memory usage: 8.1+ KB\n"
     ]
    }
   ],
   "source": [
    "reporter.info()"
   ]
  },
  {
   "cell_type": "markdown",
   "id": "03a5191d",
   "metadata": {},
   "source": [
    "### Count of recorded archaeological sites per county in TN"
   ]
  },
  {
   "cell_type": "code",
   "execution_count": null,
   "id": "aada0477",
   "metadata": {},
   "outputs": [],
   "source": [
    "#count of sites per county\n",
    "counties = sites_df.County.value_counts()\n",
    "counties"
   ]
  },
  {
   "cell_type": "code",
   "execution_count": null,
   "id": "bb52b72a",
   "metadata": {},
   "outputs": [],
   "source": [
    "#reset index\n",
    "counties = counties.reset_index()\n",
    "counties"
   ]
  },
  {
   "cell_type": "code",
   "execution_count": null,
   "id": "9f1fb4fb",
   "metadata": {},
   "outputs": [],
   "source": [
    "#rename columns\n",
    "counties = counties.rename(columns={\"index\": \"county\", \"County\": \"recorded_sites\"})\n",
    "counties"
   ]
  },
  {
   "cell_type": "code",
   "execution_count": null,
   "id": "89c57342",
   "metadata": {},
   "outputs": [],
   "source": [
    "(counties.loc[counties['county'] == 'Sequatchie'])"
   ]
  },
  {
   "cell_type": "code",
   "execution_count": null,
   "id": "16cd6eaa",
   "metadata": {},
   "outputs": [],
   "source": [
    "#drop blank row and 'DV' row\n",
    "counties_2 = counties.drop(index=[95,96], axis=0)\n",
    "counties_2"
   ]
  },
  {
   "cell_type": "code",
   "execution_count": null,
   "id": "6fbf6d77",
   "metadata": {},
   "outputs": [],
   "source": [
    "#download as csv file\n",
    "counties_2.to_csv('sites_by_county.csv', index=False)"
   ]
  },
  {
   "cell_type": "code",
   "execution_count": null,
   "id": "1d2ea65c",
   "metadata": {},
   "outputs": [],
   "source": [
    "sns.barplot(data=counties_2, x='county', y='recorded_sites')\n",
    "plt.xticks(rotation=90)\n",
    "plt.figure(figsize=(20,20))"
   ]
  },
  {
   "cell_type": "markdown",
   "id": "90897490",
   "metadata": {},
   "source": [
    "### count of sites by owner type"
   ]
  },
  {
   "cell_type": "code",
   "execution_count": null,
   "id": "63513e59",
   "metadata": {},
   "outputs": [],
   "source": [
    "#value counts of sites by owner type\n",
    "ownership = sites_df.Ownership.value_counts()\n",
    "ownership"
   ]
  },
  {
   "cell_type": "code",
   "execution_count": null,
   "id": "43917b1f",
   "metadata": {},
   "outputs": [],
   "source": [
    "#turn into dataframe\n",
    "pd.DataFrame(data = ownership)"
   ]
  },
  {
   "cell_type": "code",
   "execution_count": null,
   "id": "27973d6e",
   "metadata": {},
   "outputs": [],
   "source": [
    "#reset the index\n",
    "ownership = ownership.reset_index()\n",
    "ownership"
   ]
  },
  {
   "cell_type": "code",
   "execution_count": null,
   "id": "b80096d4",
   "metadata": {},
   "outputs": [],
   "source": [
    "#rename columns\n",
    "ownership = ownership.rename(columns={\"index\": \"owner_type\", \"Ownership\": \"recorded_sites\"})\n",
    "ownership"
   ]
  },
  {
   "cell_type": "code",
   "execution_count": null,
   "id": "68a8c86f",
   "metadata": {},
   "outputs": [],
   "source": [
    "#replace blank values with \"unknown\"\n",
    "ownership = ownership.replace(' ', 'unknown')\n",
    "ownership"
   ]
  },
  {
   "cell_type": "code",
   "execution_count": null,
   "id": "fb20dce5",
   "metadata": {},
   "outputs": [],
   "source": [
    "#rename federal government rows\n",
    "ownership = ownership.replace('federal', 'federal gov')\n",
    "ownership"
   ]
  },
  {
   "cell_type": "code",
   "execution_count": null,
   "id": "110518af",
   "metadata": {},
   "outputs": [],
   "source": [
    "#rename local government rows\n",
    "ownership = ownership.replace('Local', 'local gov')\n",
    "ownership"
   ]
  },
  {
   "cell_type": "code",
   "execution_count": null,
   "id": "e8d0caa9",
   "metadata": {},
   "outputs": [],
   "source": [
    "#group owner_type column by unique values and sum identical owner_types together\n",
    "ownership = ownership.groupby(by=\"owner_type\").sum('recorded_sites')\n",
    "ownership"
   ]
  },
  {
   "cell_type": "code",
   "execution_count": null,
   "id": "44887b4f",
   "metadata": {},
   "outputs": [],
   "source": [
    "#sort recorded sites in descending order\n",
    "ownership = ownership.sort_values(by=\"recorded_sites\", ascending = False)\n",
    "ownership"
   ]
  },
  {
   "cell_type": "code",
   "execution_count": null,
   "id": "29d139d6",
   "metadata": {},
   "outputs": [],
   "source": [
    "#reset index\n",
    "ownership = ownership.reset_index()\n",
    "ownership"
   ]
  },
  {
   "cell_type": "code",
   "execution_count": null,
   "id": "9c32027c",
   "metadata": {},
   "outputs": [],
   "source": [
    "#download as csv file\n",
    "ownership.to_csv('sites_by_owner_type.csv', index=False)"
   ]
  },
  {
   "cell_type": "code",
   "execution_count": null,
   "id": "00b02c80",
   "metadata": {},
   "outputs": [],
   "source": [
    "sns.barplot(data = ownership, x = \"owner_type\", y = \"recorded_sites\")"
   ]
  },
  {
   "cell_type": "markdown",
   "id": "7d381928",
   "metadata": {},
   "source": [
    "### count of sites by prehistoric site type"
   ]
  },
  {
   "cell_type": "code",
   "execution_count": null,
   "id": "751f15f2",
   "metadata": {},
   "outputs": [],
   "source": [
    "#value counts of prehistoric sites by site type\n",
    "prehistoric_types = sites_df.PrehType.value_counts()\n",
    "prehistoric_types"
   ]
  },
  {
   "cell_type": "code",
   "execution_count": null,
   "id": "36474bf0",
   "metadata": {
    "scrolled": true
   },
   "outputs": [],
   "source": [
    "#turn into dataframe\n",
    "pd.DataFrame(data=prehistoric_types)"
   ]
  },
  {
   "cell_type": "code",
   "execution_count": null,
   "id": "3936cecd",
   "metadata": {},
   "outputs": [],
   "source": [
    "#reset the index\n",
    "prehistoric_types = prehistoric_types.reset_index()\n",
    "prehistoric_types"
   ]
  },
  {
   "cell_type": "code",
   "execution_count": null,
   "id": "9c82eba4",
   "metadata": {},
   "outputs": [],
   "source": [
    "#rename columns\n",
    "prehistoric_types = prehistoric_types.rename(columns={\"index\": \"Site Type\", \"PrehType\": \"Recorded Sites\"})\n",
    "prehistoric_types"
   ]
  },
  {
   "cell_type": "code",
   "execution_count": null,
   "id": "0142f6a1",
   "metadata": {},
   "outputs": [],
   "source": [
    "#replace blank values with \"unknown\"\n",
    "prehistoric_types = prehistoric_types.replace(' ', 'unknown')\n",
    "prehistoric_types"
   ]
  },
  {
   "cell_type": "code",
   "execution_count": null,
   "id": "6ad3f21e",
   "metadata": {},
   "outputs": [],
   "source": [
    "#sort recorded sites in descending order\n",
    "prehistoric_types = prehistoric_types.sort_values(by=\"Recorded Sites\", ascending = False)\n",
    "prehistoric_types"
   ]
  },
  {
   "cell_type": "code",
   "execution_count": null,
   "id": "d66bfbb7",
   "metadata": {},
   "outputs": [],
   "source": [
    "#rename rows\n",
    "prehistoric_types = prehistoric_types.replace({'open habitation, prehistoric cemetery': 'prehistoric cemetery', 'open habitation, earth mound': 'earth mound', 'open habitation, mound complex': 'mound complex', 'open habitation, shell mound/midden': 'shell mound/midden', 'open habitation, indeterminate mound': 'indeterminate mound', 'open habitation, quarry': 'quarry', 'open habitation, isolated burial(s)': 'isolated burial(s)'})\n",
    "prehistoric_types"
   ]
  },
  {
   "cell_type": "code",
   "execution_count": null,
   "id": "5654750a",
   "metadata": {},
   "outputs": [],
   "source": [
    "#rename rows\n",
    "prehistoric_types = prehistoric_types.replace({'cave, Pleistocene fauna': 'Pleistocene fauna', 'open habitation, stone mound': 'stone mound', 'open habitation, platform mound': ' platform mound', 'open habitation, mound complex, prehistoric cemetery': 'prehistoric cemetery', 'cave, rock shelter': 'rock shelter', 'open habitation, earth mound, prehistoric cemetery': 'prehistoric cemetery', 'earth mound, prehistoric cemetery': 'prehistoric cemetery', 'cave, prehistoric cemetery': 'prehistoric cemetery', 'open habitation, rock shelter': 'rock shelter', 'mound complex, prehistoric cemetery': 'prehistoric cemetery', 'open habitation, indeterminate mound, prehistoric cemetery': 'prehistoric cemetery', 'open habitation, earth mound, shell mound/midden': 'shell mound/midden', 'earth mound, indeterminate mound': 'indeterminate mound', 'stone mound, earth mound': 'earth mound', 'mound complex, stone mound': 'stone mound', 'open habitation, mound complex, platform mound': 'platform mound', 'open habitation, mound complex, platform mound, earth mound': 'earth mound', 'open habitation, cave': 'cave'})\n",
    "prehistoric_types"
   ]
  },
  {
   "cell_type": "code",
   "execution_count": null,
   "id": "4f2b8571",
   "metadata": {},
   "outputs": [],
   "source": [
    "#rename rows\n",
    "prehistoric_types = prehistoric_types.replace({'rock shelter, prehistoric cemetery': 'prehistoric cemetery', 'open habitation, Pleistocene fauna': 'Pleistocene fauna', 'open habitation, mound complex, earth mound': 'earth mound', 'mound complex, earth mound': 'earth mound', 'stone mound, prehistoric cemetery': 'prehistoric cemetery', 'rock shelter, isolated burial(s)': 'isolated burial(s)', 'earth mound, isolated burial(s)': 'isolated burial(s)', 'mound complex, stone mound, earth mound': 'earth mound', 'open habitation, earth mound, isolated burial(s)': 'isolated burial(s)', 'open habitation, fish weir': 'fish weir', 'open habitation, prehistoric cemetery, shell mound/midden': 'prehistoric cemetery', 'cave, pleistocene fauna': 'Pleistocene fauna', 'cave, isolated burial(s)': 'isolated burial(s)', 'open habitation, earth mound, earthworks' : 'earthworks', 'open habitation, platform mound, prehistoric cemetery': 'prehistoric cemetery'})\n",
    "prehistoric_types"
   ]
  },
  {
   "cell_type": "code",
   "execution_count": null,
   "id": "153648c4",
   "metadata": {},
   "outputs": [],
   "source": [
    "#rename rows\n",
    "prehistoric_types = prehistoric_types.replace({'open habitation, mound complex, platform mound, prehistoric cemetery': 'prehistoric cemetery', 'open habitation, platform mound, earth mound': 'earth mound', 'open habitation, mound complex, earth mound, prehistoric cemetery': 'prehistoric cemetery', 'cave, pictograph': 'pictograph', 'stone mound, earthmound, prehistoric cemetery': 'prehistoric cemetery', 'stone mound, stoneworks': 'stoneworks', 'stone mound, stoneworks (pile)': 'stoneworks', 'open habitation, prehistoric cemetery, quarry': 'prehistoric cemetery', 'open habitation, stoneworks':'stoneworks'})\n",
    "prehistoric_types"
   ]
  },
  {
   "cell_type": "code",
   "execution_count": null,
   "id": "75a90a55",
   "metadata": {},
   "outputs": [],
   "source": [
    "#rename rows\n",
    "prehistoric_types = prehistoric_types.replace({'platform mound, prehistoric cemetery': 'prehistoric cemetery', 'platform mound, stone mound': 'stone mound', 'open habitation, stoneworks (piles)': 'stoneworks', 'platform mound, indeterminate mound': 'platform mound', 'open habitation, stone works': 'stoneworks', 'rock shelter, fish weir': 'fish weir', 'cave, open habitation': 'cave', 'cave, mound complex, stone mound': 'stone mound', 'cave, isolated burials': 'isolated burials', 'open habitation, stone mound, isolated burial(s)': 'isolated burial(s)', 'rock shelter, petroglyph': 'petroglyph'})\n",
    "prehistoric_types"
   ]
  },
  {
   "cell_type": "code",
   "execution_count": null,
   "id": "886b1043",
   "metadata": {},
   "outputs": [],
   "source": [
    "#rename rows\n",
    "prehistoric_types = prehistoric_types.replace({'indeterminate mound, prehistoric cemetery': 'prehistoric cemetery', 'open habitation, shell mound/midden, isolated burial(s)': 'isolated burial(s)', 'open habitation, shell mound/midden, prehistoric cemetery': 'prehistoric cemetery', 'open habitation, stone mound, earth mound': 'earth mound', 'open habitation, stone mound, quarry': 'quarry', 'cave, rock shelter, isolated burial(s)': 'isolated burial(s)', 'cave, quarry, pleistocene fauna': 'Pleistocene fauna', 'cave, quarry, open habitation': 'quarry', 'cave, quarry': 'quarry', 'cave, prehistoric cemetery, pleistocene fauna': 'Pleistocene fauna'})\n",
    "prehistoric_types"
   ]
  },
  {
   "cell_type": "code",
   "execution_count": null,
   "id": "d45d5deb",
   "metadata": {},
   "outputs": [],
   "source": [
    "#rename rows\n",
    "prehistoric_types = prehistoric_types.replace({'open habitation, prehistoric cemetery, indeterminate mound': 'prehistoric cemetery', 'cave, isolated burial': 'isolated burial(s)', 'cave, Pleistocene fauna, prehistoric cemetery': 'prehistoric cemetery', 'stone mound, isolated burial(s)': 'isolated burial(s)', 'stoneworks, prehistoric cemetery': 'prehistoric cemetery', 'stoneworks, quarry': 'quarry', 'open habitation, rock shelter, mound complex, shell mound/midden': 'shell mound/midden', 'open habitation, prehistoric cemetery, fish weir': 'prehistoric cemetery', 'open habitation, cemetery': 'prehistoric cemetery', 'fish weir, stoneworks': 'fish weir'})\n",
    "prehistoric_types"
   ]
  },
  {
   "cell_type": "code",
   "execution_count": null,
   "id": "cc452d8d",
   "metadata": {},
   "outputs": [],
   "source": [
    "#rename rows\n",
    "prehistoric_types = prehistoric_types.replace({'earthworks, open habitation': 'earthworks', 'mound complex, earth mound, isolated burial(s)': 'isolated burial(s)', 'mound complex, prehistoric cemetery, open habitation': 'prehistoric cemetery', 'mound complex, stone mound, isolated burial(s)': 'isolated burial(s)', 'cave, stoneworks': 'stoneworks', 'open habitation, cave, rock shelter': 'rock shelter', 'open habitation, pleistocene fauna': 'Pleistocene fauna', 'open habitation, earth mound, prehistoric cemetery, earthworks': 'prehistoric cemetery', 'open habitation, earthworks, prehistoric cemetery': 'prehistoric cemetery'})\n",
    "prehistoric_types"
   ]
  },
  {
   "cell_type": "code",
   "execution_count": null,
   "id": "7b2e9088",
   "metadata": {},
   "outputs": [],
   "source": [
    "#rename rows\n",
    "prehistoric_types = prehistoric_types.replace({'open habitation, indeterminate mound': 'indeterminate mound', 'open habitation, mound complex, indeterminate mound, prehistoric cemetery': 'prehistoric cemetery', 'open habitation, mound complex, platform mound, earthworks': 'platform mound', 'open habitation, mound complex, platform mound, indeterminate mound, prehistoric cemetery': 'prehistoric cemetery', 'open habitation, mound complex, stone mound': 'stone mound', 'open habitation, platform mound, shell mound/midden': 'shell mound/midden', 'open habitation, platform mound, shell mound/midden, prehistoric cemetery': 'prehistoric cemetery', 'open habitation, earth mound, indeterminate mound': 'earth mound'})\n",
    "prehistoric_types"
   ]
  },
  {
   "cell_type": "code",
   "execution_count": null,
   "id": "ad221a85",
   "metadata": {},
   "outputs": [],
   "source": [
    "#rename rows\n",
    "prehistoric_types = prehistoric_types.replace({'stone mound, indetermineate mound': 'stone mound', 'stoneworks, isolated burial(s)':'isolated burial(s)', 'stoneworks (stone pile)':'stoneworks', 'open habitation, mound complex, platform mound, indeterminate mound, prehistoric cemetery': 'prehistoric cemetery', 'Fish weir':'fish weir', 'open habitation, inderminate mound': 'indeterminate mound', 'Pleistocene Fauna': 'Pleistocene fauna', ' platform mound': 'platform mound', 'isolated prehistoric burial(s)': 'isolated burial(s)'})\n",
    "prehistoric_types"
   ]
  },
  {
   "cell_type": "code",
   "execution_count": null,
   "id": "532ca594",
   "metadata": {},
   "outputs": [],
   "source": [
    "#rename rows\n",
    "prehistoric_types = prehistoric_types.replace({'reported earth mound': 'earth mound', ' open habitation, mound complex, platform mound, indeterminate mound, prehistoric cemetery': 'prehistoric cemetery', 'non-diagnostic isolate': 'isolated non-diagnostic artifact', 'isolated burials': 'isolated burial(s)'})\n",
    "prehistoric_types"
   ]
  },
  {
   "cell_type": "code",
   "execution_count": null,
   "id": "5ef7d7a0",
   "metadata": {},
   "outputs": [],
   "source": [
    "#group owner_type column by unique values and sum identical owner_types together\n",
    "prehistoric_types = prehistoric_types.groupby(by=\"Site Type\").sum('Recorded Sites')\n",
    "prehistoric_types"
   ]
  },
  {
   "cell_type": "code",
   "execution_count": null,
   "id": "682f7356",
   "metadata": {},
   "outputs": [],
   "source": [
    "#sort recorded sites in descending order\n",
    "prehistoric_types = prehistoric_types.sort_values(by=\"Recorded Sites\", ascending = False)\n",
    "prehistoric_types"
   ]
  },
  {
   "cell_type": "code",
   "execution_count": null,
   "id": "3f75ce74",
   "metadata": {},
   "outputs": [],
   "source": [
    "prehistoric_types_final = prehistoric_types[prehistoric_types['Recorded Sites'] >= 20]\n",
    "prehistoric_types_final"
   ]
  },
  {
   "cell_type": "code",
   "execution_count": null,
   "id": "a92aff56",
   "metadata": {},
   "outputs": [],
   "source": [
    "prehistoric_types_final = prehistoric_types_final.reset_index()\n",
    "prehistoric_types_final"
   ]
  },
  {
   "cell_type": "code",
   "execution_count": null,
   "id": "9c6fbf1a",
   "metadata": {},
   "outputs": [],
   "source": [
    "prehistoric_types_final.to_csv('prehistoric_site_types.csv', index=False)"
   ]
  },
  {
   "cell_type": "markdown",
   "id": "9284f2f3",
   "metadata": {},
   "source": [
    "### count of sites by historic site type"
   ]
  },
  {
   "cell_type": "code",
   "execution_count": null,
   "id": "1e878efe",
   "metadata": {},
   "outputs": [],
   "source": [
    "historic_types = sites_df.HistType.value_counts()\n",
    "historic_types"
   ]
  },
  {
   "cell_type": "code",
   "execution_count": null,
   "id": "beee069f",
   "metadata": {},
   "outputs": [],
   "source": [
    "#turn into dataframe\n",
    "pd.DataFrame(data=historic_types)"
   ]
  },
  {
   "cell_type": "code",
   "execution_count": null,
   "id": "d6a841ce",
   "metadata": {},
   "outputs": [],
   "source": [
    "#reset the index\n",
    "historic_types = historic_types.reset_index()\n",
    "historic_types"
   ]
  },
  {
   "cell_type": "code",
   "execution_count": null,
   "id": "0d6a2f80",
   "metadata": {},
   "outputs": [],
   "source": [
    "#rename columns\n",
    "historic_types = historic_types.rename(columns={\"index\": \"Site Type\", \"HistType\": \"Recorded Sites\"})\n",
    "historic_types"
   ]
  },
  {
   "cell_type": "code",
   "execution_count": null,
   "id": "b238c92d",
   "metadata": {},
   "outputs": [],
   "source": [
    "#replace blank values with \"unknown\"\n",
    "historic_types = historic_types.replace(' ', 'unknown')\n",
    "historic_types"
   ]
  },
  {
   "cell_type": "code",
   "execution_count": null,
   "id": "5a5daec1",
   "metadata": {},
   "outputs": [],
   "source": [
    "#sort recorded sites in descending order\n",
    "historic_types = historic_types.sort_values(by=\"Recorded Sites\", ascending = False)\n",
    "historic_types"
   ]
  },
  {
   "cell_type": "code",
   "execution_count": null,
   "id": "612b118e",
   "metadata": {},
   "outputs": [],
   "source": [
    "#group owner_type column by unique values and sum identical owner_types together\n",
    "historic_types = historic_types.groupby(by=\"Site Type\").sum('Recorded Sites')\n",
    "historic_types"
   ]
  },
  {
   "cell_type": "code",
   "execution_count": null,
   "id": "d05e21c8",
   "metadata": {},
   "outputs": [],
   "source": [
    "#sort recorded sites in descending order\n",
    "historic_types = historic_types.sort_values(by=\"Recorded Sites\", ascending = False)\n",
    "historic_types"
   ]
  },
  {
   "cell_type": "code",
   "execution_count": null,
   "id": "e6cf42b7",
   "metadata": {},
   "outputs": [],
   "source": [
    "#reset the index\n",
    "historic_types = historic_types.reset_index()\n",
    "historic_types"
   ]
  },
  {
   "cell_type": "code",
   "execution_count": null,
   "id": "ac13880a",
   "metadata": {},
   "outputs": [],
   "source": [
    "historic_types = historic_types[historic_types['Recorded Sites'] >= 20]\n",
    "historic_types"
   ]
  },
  {
   "cell_type": "code",
   "execution_count": null,
   "id": "22b4c286",
   "metadata": {},
   "outputs": [],
   "source": [
    "historic_types.to_csv('historic_site_types.csv', index=False)"
   ]
  },
  {
   "cell_type": "code",
   "execution_count": null,
   "id": "af4567ae",
   "metadata": {},
   "outputs": [],
   "source": [
    "historic_types.head(60)"
   ]
  },
  {
   "cell_type": "markdown",
   "id": "3a37ff50",
   "metadata": {},
   "source": [
    "### count of sites by physical division"
   ]
  },
  {
   "cell_type": "code",
   "execution_count": null,
   "id": "c6064dea",
   "metadata": {},
   "outputs": [],
   "source": [
    "physical_division = sites_df.PhysioDiv.value_counts()\n",
    "physical_division"
   ]
  },
  {
   "cell_type": "code",
   "execution_count": null,
   "id": "8ee73a4f",
   "metadata": {},
   "outputs": [],
   "source": [
    "pd.DataFrame(data = physical_division)"
   ]
  },
  {
   "cell_type": "code",
   "execution_count": null,
   "id": "ed58a45b",
   "metadata": {},
   "outputs": [],
   "source": [
    "physical_division = physical_division.reset_index()\n",
    "physical_division"
   ]
  },
  {
   "cell_type": "code",
   "execution_count": null,
   "id": "fc53b266",
   "metadata": {},
   "outputs": [],
   "source": [
    "physical_division = physical_division.rename(columns={\"index\": \"Physical Division\", \"PhysioDiv\": \"Recorded Sites\"})\n",
    "physical_division"
   ]
  },
  {
   "cell_type": "code",
   "execution_count": null,
   "id": "fd93af09",
   "metadata": {},
   "outputs": [],
   "source": [
    "physical_division = physical_division.replace(\" \", \"unknown\")\n",
    "physical_division"
   ]
  },
  {
   "cell_type": "code",
   "execution_count": null,
   "id": "d495b954",
   "metadata": {},
   "outputs": [],
   "source": [
    "physical_division.to_csv('physical_division_site_types.csv', index=False)"
   ]
  },
  {
   "cell_type": "code",
   "execution_count": null,
   "id": "ce1bbb3a",
   "metadata": {},
   "outputs": [],
   "source": [
    "sns.barplot(data = physical_division, x = \"physical_division\", y = \"recorded_sites\")\n",
    "plt.xticks(rotation = 90)"
   ]
  },
  {
   "cell_type": "markdown",
   "id": "da12fd88",
   "metadata": {},
   "source": [
    "### count of sites by land use type"
   ]
  },
  {
   "cell_type": "code",
   "execution_count": null,
   "id": "b36bf141",
   "metadata": {},
   "outputs": [],
   "source": [
    "land_use = sites_df.LandUse.value_counts()\n",
    "land_use"
   ]
  },
  {
   "cell_type": "code",
   "execution_count": null,
   "id": "3036a459",
   "metadata": {},
   "outputs": [],
   "source": [
    "pd.DataFrame(data = land_use)"
   ]
  },
  {
   "cell_type": "code",
   "execution_count": null,
   "id": "b1327ca3",
   "metadata": {},
   "outputs": [],
   "source": [
    "land_use = land_use.reset_index()\n",
    "land_use"
   ]
  },
  {
   "cell_type": "code",
   "execution_count": null,
   "id": "a7c592a4",
   "metadata": {},
   "outputs": [],
   "source": [
    "land_use = land_use.rename(columns={\"index\": \"Land Use\", \"LandUse\": \"Recorded Sites\"})\n",
    "land_use"
   ]
  },
  {
   "cell_type": "code",
   "execution_count": null,
   "id": "40c1520a",
   "metadata": {},
   "outputs": [],
   "source": [
    "land_use = land_use.replace({\" \": \"unknown\", \"s\": \"unknown\", \"Other\": \"unknown\", \"other\": \"unknown\"})\n",
    "land_use"
   ]
  },
  {
   "cell_type": "code",
   "execution_count": null,
   "id": "1deef1db",
   "metadata": {},
   "outputs": [],
   "source": [
    "land_use = land_use.groupby(by=\"Land Use\").sum('Recorded Sites')\n",
    "land_use"
   ]
  },
  {
   "cell_type": "code",
   "execution_count": null,
   "id": "1d6b445e",
   "metadata": {},
   "outputs": [],
   "source": [
    "land_use = land_use.reset_index()\n",
    "land_use"
   ]
  },
  {
   "cell_type": "code",
   "execution_count": null,
   "id": "16c4a39e",
   "metadata": {},
   "outputs": [],
   "source": [
    "land_use = land_use.sort_values(by = 'Recorded Sites', ascending = False)\n",
    "land_use"
   ]
  },
  {
   "cell_type": "code",
   "execution_count": null,
   "id": "e7e74d23",
   "metadata": {},
   "outputs": [],
   "source": [
    "land_use.to_csv('land_use_site_types.csv', index=False)"
   ]
  },
  {
   "cell_type": "code",
   "execution_count": null,
   "id": "4364a7d9",
   "metadata": {},
   "outputs": [],
   "source": [
    "sns.barplot(data = land_use, x = \"land_use\", y = \"recorded_sites\")\n",
    "plt.xticks(rotation = 90)\n"
   ]
  },
  {
   "cell_type": "markdown",
   "id": "61a86f79",
   "metadata": {},
   "source": [
    "### count of sites by reporter type"
   ]
  },
  {
   "cell_type": "code",
   "execution_count": null,
   "id": "f23a2662",
   "metadata": {},
   "outputs": [],
   "source": [
    "reporter_type = sites_df.RptrType.value_counts()\n",
    "reporter_type"
   ]
  },
  {
   "cell_type": "code",
   "execution_count": null,
   "id": "87af75d4",
   "metadata": {},
   "outputs": [],
   "source": [
    "pd.DataFrame(data=reporter_type)"
   ]
  },
  {
   "cell_type": "code",
   "execution_count": null,
   "id": "c84c12d0",
   "metadata": {},
   "outputs": [],
   "source": [
    "reporter_type = reporter_type.reset_index()\n",
    "reporter_type"
   ]
  },
  {
   "cell_type": "code",
   "execution_count": null,
   "id": "9313fe88",
   "metadata": {},
   "outputs": [],
   "source": [
    "reporter_type = reporter_type.rename(columns={\"index\": \"Reporter Type\", \"RptrType\": \"Recorded Sites\"})\n",
    "reporter_type"
   ]
  },
  {
   "cell_type": "code",
   "execution_count": null,
   "id": "bb1dc261",
   "metadata": {},
   "outputs": [],
   "source": [
    "reporter_type = reporter_type.replace(\" \", \"unknown\")\n",
    "reporter_type"
   ]
  },
  {
   "cell_type": "code",
   "execution_count": null,
   "id": "8f1814a9",
   "metadata": {},
   "outputs": [],
   "source": [
    "reporter_type.to_csv('reporter_site_types.csv', index=False)"
   ]
  },
  {
   "cell_type": "code",
   "execution_count": null,
   "id": "3115f911",
   "metadata": {},
   "outputs": [],
   "source": [
    "sns.barplot(data = reporter_type, \n",
    "           x = \"reporter_type\", \n",
    "           y = \"recorded_sites\")\n",
    "plt.xticks(rotation = 90)"
   ]
  },
  {
   "cell_type": "markdown",
   "id": "dd36a9d2",
   "metadata": {},
   "source": [
    "### count of sites by survey level"
   ]
  },
  {
   "cell_type": "code",
   "execution_count": null,
   "id": "b2c1f748",
   "metadata": {},
   "outputs": [],
   "source": [
    "survey_level = sites_df.SurvLevel.value_counts()\n",
    "survey_level"
   ]
  },
  {
   "cell_type": "code",
   "execution_count": null,
   "id": "3b74fa82",
   "metadata": {},
   "outputs": [],
   "source": [
    "pd.DataFrame(data = survey_level)"
   ]
  },
  {
   "cell_type": "code",
   "execution_count": null,
   "id": "bae164f7",
   "metadata": {},
   "outputs": [],
   "source": [
    "survey_level = survey_level.reset_index()\n",
    "survey_level"
   ]
  },
  {
   "cell_type": "code",
   "execution_count": null,
   "id": "b4cd7ca7",
   "metadata": {},
   "outputs": [],
   "source": [
    "survey_level = survey_level.rename(columns={\"index\": \"Survey Level\", \"SurvLevel\": \"Recorded Sites\"})\n",
    "survey_level"
   ]
  },
  {
   "cell_type": "code",
   "execution_count": null,
   "id": "e65dbf2d",
   "metadata": {},
   "outputs": [],
   "source": [
    "survey_level = survey_level.replace(\" \", \"unknown\")\n",
    "survey_level"
   ]
  },
  {
   "cell_type": "code",
   "execution_count": null,
   "id": "36698c31",
   "metadata": {},
   "outputs": [],
   "source": [
    "survey_level.to_csv('survey_level_site_types.csv', index=False)"
   ]
  },
  {
   "cell_type": "code",
   "execution_count": null,
   "id": "d2a7e29c",
   "metadata": {},
   "outputs": [],
   "source": [
    "sns.barplot(data = survey_level, \n",
    "           x = \"survey_level\", \n",
    "           y = \"recorded_sites\")\n",
    "plt.xticks(rotation = 90)"
   ]
  },
  {
   "cell_type": "code",
   "execution_count": null,
   "id": "0f6a12fb",
   "metadata": {},
   "outputs": [],
   "source": []
  }
 ],
 "metadata": {
  "kernelspec": {
   "display_name": "Python 3 (ipykernel)",
   "language": "python",
   "name": "python3"
  },
  "language_info": {
   "codemirror_mode": {
    "name": "ipython",
    "version": 3
   },
   "file_extension": ".py",
   "mimetype": "text/x-python",
   "name": "python",
   "nbconvert_exporter": "python",
   "pygments_lexer": "ipython3",
   "version": "3.9.12"
  }
 },
 "nbformat": 4,
 "nbformat_minor": 5
}
