{
 "cells": [
  {
   "cell_type": "code",
   "execution_count": 1,
   "id": "e8ad4258",
   "metadata": {},
   "outputs": [],
   "source": [
    "import pandas as pd"
   ]
  },
  {
   "cell_type": "code",
   "execution_count": 2,
   "id": "98525ea6",
   "metadata": {},
   "outputs": [
    {
     "data": {
      "text/html": [
       "<div>\n",
       "<style scoped>\n",
       "    .dataframe tbody tr th:only-of-type {\n",
       "        vertical-align: middle;\n",
       "    }\n",
       "\n",
       "    .dataframe tbody tr th {\n",
       "        vertical-align: top;\n",
       "    }\n",
       "\n",
       "    .dataframe thead th {\n",
       "        text-align: right;\n",
       "    }\n",
       "</style>\n",
       "<table border=\"1\" class=\"dataframe\">\n",
       "  <thead>\n",
       "    <tr style=\"text-align: right;\">\n",
       "      <th></th>\n",
       "      <th>Year</th>\n",
       "      <th>County</th>\n",
       "      <th>County Tax Receipts (Local Tax In Millions)</th>\n",
       "      <th>LastReportedDate</th>\n",
       "      <th>Unnamed: 4</th>\n",
       "    </tr>\n",
       "  </thead>\n",
       "  <tbody>\n",
       "    <tr>\n",
       "      <th>0</th>\n",
       "      <td>2001</td>\n",
       "      <td>Anderson</td>\n",
       "      <td>1.4328</td>\n",
       "      <td>2021-02-04</td>\n",
       "      <td>NaN</td>\n",
       "    </tr>\n",
       "    <tr>\n",
       "      <th>1</th>\n",
       "      <td>2001</td>\n",
       "      <td>Bedford</td>\n",
       "      <td>0.7659</td>\n",
       "      <td>2021-02-04</td>\n",
       "      <td>NaN</td>\n",
       "    </tr>\n",
       "    <tr>\n",
       "      <th>2</th>\n",
       "      <td>2001</td>\n",
       "      <td>Benton</td>\n",
       "      <td>1.5913</td>\n",
       "      <td>2021-02-04</td>\n",
       "      <td>NaN</td>\n",
       "    </tr>\n",
       "    <tr>\n",
       "      <th>3</th>\n",
       "      <td>2001</td>\n",
       "      <td>Bledsoe</td>\n",
       "      <td>0.4216</td>\n",
       "      <td>2021-02-04</td>\n",
       "      <td>NaN</td>\n",
       "    </tr>\n",
       "    <tr>\n",
       "      <th>4</th>\n",
       "      <td>2001</td>\n",
       "      <td>Blount</td>\n",
       "      <td>5.9471</td>\n",
       "      <td>2021-02-04</td>\n",
       "      <td>NaN</td>\n",
       "    </tr>\n",
       "    <tr>\n",
       "      <th>...</th>\n",
       "      <td>...</td>\n",
       "      <td>...</td>\n",
       "      <td>...</td>\n",
       "      <td>...</td>\n",
       "      <td>...</td>\n",
       "    </tr>\n",
       "    <tr>\n",
       "      <th>1809</th>\n",
       "      <td>2019</td>\n",
       "      <td>Weakley</td>\n",
       "      <td>0.7429</td>\n",
       "      <td>2021-02-04</td>\n",
       "      <td>NaN</td>\n",
       "    </tr>\n",
       "    <tr>\n",
       "      <th>1810</th>\n",
       "      <td>2019</td>\n",
       "      <td>White</td>\n",
       "      <td>1.1062</td>\n",
       "      <td>2021-02-04</td>\n",
       "      <td>NaN</td>\n",
       "    </tr>\n",
       "    <tr>\n",
       "      <th>1811</th>\n",
       "      <td>2019</td>\n",
       "      <td>Williamson</td>\n",
       "      <td>10.0336</td>\n",
       "      <td>2021-02-04</td>\n",
       "      <td>NaN</td>\n",
       "    </tr>\n",
       "    <tr>\n",
       "      <th>1812</th>\n",
       "      <td>2019</td>\n",
       "      <td>Wilson</td>\n",
       "      <td>5.2766</td>\n",
       "      <td>2021-02-04</td>\n",
       "      <td>NaN</td>\n",
       "    </tr>\n",
       "    <tr>\n",
       "      <th>1813</th>\n",
       "      <td>\u001a</td>\n",
       "      <td>NaN</td>\n",
       "      <td>NaN</td>\n",
       "      <td>NaN</td>\n",
       "      <td>NaN</td>\n",
       "    </tr>\n",
       "  </tbody>\n",
       "</table>\n",
       "<p>1814 rows × 5 columns</p>\n",
       "</div>"
      ],
      "text/plain": [
       "      Year      County  County Tax Receipts (Local Tax In Millions)  \\\n",
       "0     2001    Anderson                                       1.4328   \n",
       "1     2001     Bedford                                       0.7659   \n",
       "2     2001      Benton                                       1.5913   \n",
       "3     2001     Bledsoe                                       0.4216   \n",
       "4     2001      Blount                                       5.9471   \n",
       "...    ...         ...                                          ...   \n",
       "1809  2019     Weakley                                       0.7429   \n",
       "1810  2019       White                                       1.1062   \n",
       "1811  2019  Williamson                                      10.0336   \n",
       "1812  2019      Wilson                                       5.2766   \n",
       "1813     \u001a         NaN                                          NaN   \n",
       "\n",
       "     LastReportedDate  Unnamed: 4  \n",
       "0          2021-02-04         NaN  \n",
       "1          2021-02-04         NaN  \n",
       "2          2021-02-04         NaN  \n",
       "3          2021-02-04         NaN  \n",
       "4          2021-02-04         NaN  \n",
       "...               ...         ...  \n",
       "1809       2021-02-04         NaN  \n",
       "1810       2021-02-04         NaN  \n",
       "1811       2021-02-04         NaN  \n",
       "1812       2021-02-04         NaN  \n",
       "1813              NaN         NaN  \n",
       "\n",
       "[1814 rows x 5 columns]"
      ]
     },
     "execution_count": 2,
     "metadata": {},
     "output_type": "execute_result"
    }
   ],
   "source": [
    "county_tax_receipts = pd.read_csv('../data/countytaxreceipts.csv')\n",
    "county_tax_receipts"
   ]
  },
  {
   "cell_type": "code",
   "execution_count": 11,
   "id": "679485d9",
   "metadata": {},
   "outputs": [
    {
     "data": {
      "text/plain": [
       "Year                                            object\n",
       "County                                          object\n",
       "County Tax Receipts (Local Tax In Millions)    float64\n",
       "LastReportedDate                                object\n",
       "dtype: object"
      ]
     },
     "execution_count": 11,
     "metadata": {},
     "output_type": "execute_result"
    }
   ],
   "source": [
    "county_tax_receipts.dtypes"
   ]
  },
  {
   "cell_type": "code",
   "execution_count": 13,
   "id": "ea18d445",
   "metadata": {},
   "outputs": [
    {
     "ename": "KeyError",
     "evalue": "'County Tax Receipts (Local Tax In Millions)'",
     "output_type": "error",
     "traceback": [
      "\u001b[0;31m---------------------------------------------------------------------------\u001b[0m",
      "\u001b[0;31mKeyError\u001b[0m                                  Traceback (most recent call last)",
      "Input \u001b[0;32mIn [13]\u001b[0m, in \u001b[0;36m<cell line: 1>\u001b[0;34m()\u001b[0m\n\u001b[0;32m----> 1\u001b[0m sorted_county_tax \u001b[38;5;241m=\u001b[39m \u001b[43mcounty_tax_receipts\u001b[49m\u001b[38;5;241;43m.\u001b[39;49m\u001b[43msort_values\u001b[49m\u001b[43m(\u001b[49m\u001b[38;5;124;43m'\u001b[39;49m\u001b[38;5;124;43mCounty Tax Receipts (Local Tax In Millions)\u001b[39;49m\u001b[38;5;124;43m'\u001b[39;49m\u001b[43m,\u001b[49m\u001b[43m \u001b[49m\u001b[43maxis\u001b[49m\u001b[43m \u001b[49m\u001b[38;5;241;43m=\u001b[39;49m\u001b[43m \u001b[49m\u001b[38;5;241;43m1\u001b[39;49m\u001b[43m,\u001b[49m\u001b[43m \u001b[49m\u001b[43mascending\u001b[49m\u001b[43m \u001b[49m\u001b[38;5;241;43m=\u001b[39;49m\u001b[43m \u001b[49m\u001b[38;5;28;43;01mFalse\u001b[39;49;00m\u001b[43m)\u001b[49m\n",
      "File \u001b[0;32m~/opt/anaconda3/lib/python3.9/site-packages/pandas/util/_decorators.py:311\u001b[0m, in \u001b[0;36mdeprecate_nonkeyword_arguments.<locals>.decorate.<locals>.wrapper\u001b[0;34m(*args, **kwargs)\u001b[0m\n\u001b[1;32m    305\u001b[0m \u001b[38;5;28;01mif\u001b[39;00m \u001b[38;5;28mlen\u001b[39m(args) \u001b[38;5;241m>\u001b[39m num_allow_args:\n\u001b[1;32m    306\u001b[0m     warnings\u001b[38;5;241m.\u001b[39mwarn(\n\u001b[1;32m    307\u001b[0m         msg\u001b[38;5;241m.\u001b[39mformat(arguments\u001b[38;5;241m=\u001b[39marguments),\n\u001b[1;32m    308\u001b[0m         \u001b[38;5;167;01mFutureWarning\u001b[39;00m,\n\u001b[1;32m    309\u001b[0m         stacklevel\u001b[38;5;241m=\u001b[39mstacklevel,\n\u001b[1;32m    310\u001b[0m     )\n\u001b[0;32m--> 311\u001b[0m \u001b[38;5;28;01mreturn\u001b[39;00m \u001b[43mfunc\u001b[49m\u001b[43m(\u001b[49m\u001b[38;5;241;43m*\u001b[39;49m\u001b[43margs\u001b[49m\u001b[43m,\u001b[49m\u001b[43m \u001b[49m\u001b[38;5;241;43m*\u001b[39;49m\u001b[38;5;241;43m*\u001b[39;49m\u001b[43mkwargs\u001b[49m\u001b[43m)\u001b[49m\n",
      "File \u001b[0;32m~/opt/anaconda3/lib/python3.9/site-packages/pandas/core/frame.py:6313\u001b[0m, in \u001b[0;36mDataFrame.sort_values\u001b[0;34m(self, by, axis, ascending, inplace, kind, na_position, ignore_index, key)\u001b[0m\n\u001b[1;32m   6309\u001b[0m \u001b[38;5;28;01melif\u001b[39;00m \u001b[38;5;28mlen\u001b[39m(by):\n\u001b[1;32m   6310\u001b[0m     \u001b[38;5;66;03m# len(by) == 1\u001b[39;00m\n\u001b[1;32m   6312\u001b[0m     by \u001b[38;5;241m=\u001b[39m by[\u001b[38;5;241m0\u001b[39m]\n\u001b[0;32m-> 6313\u001b[0m     k \u001b[38;5;241m=\u001b[39m \u001b[38;5;28;43mself\u001b[39;49m\u001b[38;5;241;43m.\u001b[39;49m\u001b[43m_get_label_or_level_values\u001b[49m\u001b[43m(\u001b[49m\u001b[43mby\u001b[49m\u001b[43m,\u001b[49m\u001b[43m \u001b[49m\u001b[43maxis\u001b[49m\u001b[38;5;241;43m=\u001b[39;49m\u001b[43maxis\u001b[49m\u001b[43m)\u001b[49m\n\u001b[1;32m   6315\u001b[0m     \u001b[38;5;66;03m# need to rewrap column in Series to apply key function\u001b[39;00m\n\u001b[1;32m   6316\u001b[0m     \u001b[38;5;28;01mif\u001b[39;00m key \u001b[38;5;129;01mis\u001b[39;00m \u001b[38;5;129;01mnot\u001b[39;00m \u001b[38;5;28;01mNone\u001b[39;00m:\n\u001b[1;32m   6317\u001b[0m         \u001b[38;5;66;03m# error: Incompatible types in assignment (expression has type\u001b[39;00m\n\u001b[1;32m   6318\u001b[0m         \u001b[38;5;66;03m# \"Series\", variable has type \"ndarray\")\u001b[39;00m\n",
      "File \u001b[0;32m~/opt/anaconda3/lib/python3.9/site-packages/pandas/core/generic.py:1840\u001b[0m, in \u001b[0;36mNDFrame._get_label_or_level_values\u001b[0;34m(self, key, axis)\u001b[0m\n\u001b[1;32m   1838\u001b[0m     values \u001b[38;5;241m=\u001b[39m \u001b[38;5;28mself\u001b[39m\u001b[38;5;241m.\u001b[39maxes[axis]\u001b[38;5;241m.\u001b[39mget_level_values(key)\u001b[38;5;241m.\u001b[39m_values\n\u001b[1;32m   1839\u001b[0m \u001b[38;5;28;01melse\u001b[39;00m:\n\u001b[0;32m-> 1840\u001b[0m     \u001b[38;5;28;01mraise\u001b[39;00m \u001b[38;5;167;01mKeyError\u001b[39;00m(key)\n\u001b[1;32m   1842\u001b[0m \u001b[38;5;66;03m# Check for duplicates\u001b[39;00m\n\u001b[1;32m   1843\u001b[0m \u001b[38;5;28;01mif\u001b[39;00m values\u001b[38;5;241m.\u001b[39mndim \u001b[38;5;241m>\u001b[39m \u001b[38;5;241m1\u001b[39m:\n",
      "\u001b[0;31mKeyError\u001b[0m: 'County Tax Receipts (Local Tax In Millions)'"
     ]
    }
   ],
   "source": [
    "sorted_county_tax = county_tax_receipts.sort_values('County Tax Receipts (Local Tax In Millions)', axis = 1, ascending = False)"
   ]
  },
  {
   "cell_type": "code",
   "execution_count": null,
   "id": "bca1c0b8",
   "metadata": {},
   "outputs": [],
   "source": [
    "employment = pd.read_csv('../data/employementinthousands.csv')\n",
    "employment"
   ]
  },
  {
   "cell_type": "code",
   "execution_count": null,
   "id": "6ef82d38",
   "metadata": {},
   "outputs": [],
   "source": [
    "expenditures = pd.read_csv('../data/expenditures.csv')\n",
    "expenditures"
   ]
  },
  {
   "cell_type": "code",
   "execution_count": null,
   "id": "745d7b17",
   "metadata": {},
   "outputs": [],
   "source": [
    "local_tax_savings = pd.read_csv('../data/localtaxsavings.csv')\n",
    "local_tax_savings"
   ]
  },
  {
   "cell_type": "code",
   "execution_count": null,
   "id": "d651c4b2",
   "metadata": {},
   "outputs": [],
   "source": [
    "payroll = pd.read_csv('../data/payroll.csv')\n",
    "payroll"
   ]
  },
  {
   "cell_type": "code",
   "execution_count": null,
   "id": "2e13474e",
   "metadata": {},
   "outputs": [],
   "source": [
    "state_tax_receipts = pd.read_csv('../data/statetaxreceipts.csv')\n",
    "state_tax_receipts"
   ]
  },
  {
   "cell_type": "code",
   "execution_count": null,
   "id": "180f5427",
   "metadata": {},
   "outputs": [],
   "source": [
    "state_tax_savings = pd.read_csv('../data/statetaxsavings.csv')\n",
    "state_tax_savings"
   ]
  },
  {
   "cell_type": "code",
   "execution_count": null,
   "id": "894506a4",
   "metadata": {},
   "outputs": [],
   "source": [
    "total_tax_saving = pd.read_csv('../data/totaltaxsaving.csv')\n",
    "total_tax_saving"
   ]
  },
  {
   "cell_type": "code",
   "execution_count": null,
   "id": "f5c7865b",
   "metadata": {},
   "outputs": [],
   "source": []
  }
 ],
 "metadata": {
  "kernelspec": {
   "display_name": "Python 3 (ipykernel)",
   "language": "python",
   "name": "python3"
  },
  "language_info": {
   "codemirror_mode": {
    "name": "ipython",
    "version": 3
   },
   "file_extension": ".py",
   "mimetype": "text/x-python",
   "name": "python",
   "nbconvert_exporter": "python",
   "pygments_lexer": "ipython3",
   "version": "3.9.12"
  }
 },
 "nbformat": 4,
 "nbformat_minor": 5
}
