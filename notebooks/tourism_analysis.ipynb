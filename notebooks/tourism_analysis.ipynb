{
 "cells": [
  {
   "cell_type": "code",
   "execution_count": null,
   "id": "e8ad4258",
   "metadata": {},
   "outputs": [],
   "source": [
    "import pandas as pd"
   ]
  },
  {
   "cell_type": "code",
   "execution_count": null,
   "id": "98525ea6",
   "metadata": {},
   "outputs": [],
   "source": [
    "county_tax_receipts = pd.read_csv('../data/countytaxreceipts.csv')\n",
    "county_tax_receipts"
   ]
  },
  {
   "cell_type": "code",
   "execution_count": null,
   "id": "4c02f514",
   "metadata": {},
   "outputs": [],
   "source": [
    "county_tax_receipts.dtypes"
   ]
  },
  {
   "cell_type": "code",
   "execution_count": null,
   "id": "4e1a36c4",
   "metadata": {},
   "outputs": [],
   "source": [
    "sorted_county_tax = county_tax_receipts.sort_values('County Tax Receipts (Local Tax In Millions)', axis = 1, ascending = False)"
   ]
  },
  {
   "cell_type": "code",
   "execution_count": null,
   "id": "bca1c0b8",
   "metadata": {},
   "outputs": [],
   "source": [
    "employment = pd.read_csv('../data/employementinthousands.csv')\n",
    "employment"
   ]
  },
  {
   "cell_type": "code",
   "execution_count": null,
   "id": "6ef82d38",
   "metadata": {},
   "outputs": [],
   "source": [
    "expenditures = pd.read_csv('../data/expenditures.csv')\n",
    "expenditures"
   ]
  },
  {
   "cell_type": "code",
   "execution_count": null,
   "id": "745d7b17",
   "metadata": {},
   "outputs": [],
   "source": [
    "local_tax_savings = pd.read_csv('../data/localtaxsavings.csv')\n",
    "local_tax_savings"
   ]
  },
  {
   "cell_type": "code",
   "execution_count": null,
   "id": "d651c4b2",
   "metadata": {},
   "outputs": [],
   "source": [
    "payroll = pd.read_csv('../data/payroll.csv')\n",
    "payroll"
   ]
  },
  {
   "cell_type": "code",
   "execution_count": null,
   "id": "2e13474e",
   "metadata": {},
   "outputs": [],
   "source": [
    "state_tax_receipts = pd.read_csv('../data/statetaxreceipts.csv')\n",
    "state_tax_receipts"
   ]
  },
  {
   "cell_type": "code",
   "execution_count": null,
   "id": "180f5427",
   "metadata": {},
   "outputs": [],
   "source": [
    "state_tax_savings = pd.read_csv('../data/statetaxsavings.csv')\n",
    "state_tax_savings"
   ]
  },
  {
   "cell_type": "code",
   "execution_count": null,
   "id": "894506a4",
   "metadata": {},
   "outputs": [],
   "source": [
    "total_tax_saving = pd.read_csv('../data/totaltaxsaving.csv')\n",
    "total_tax_saving"
   ]
  },
  {
   "cell_type": "code",
   "execution_count": null,
   "id": "f5c7865b",
   "metadata": {},
   "outputs": [],
   "source": []
  }
 ],
 "metadata": {
  "kernelspec": {
   "display_name": "Python 3 (ipykernel)",
   "language": "python",
   "name": "python3"
  },
  "language_info": {
   "codemirror_mode": {
    "name": "ipython",
    "version": 3
   },
   "file_extension": ".py",
   "mimetype": "text/x-python",
   "name": "python",
   "nbconvert_exporter": "python",
   "pygments_lexer": "ipython3",
   "version": "3.9.12"
  }
 },
 "nbformat": 4,
 "nbformat_minor": 5
}
