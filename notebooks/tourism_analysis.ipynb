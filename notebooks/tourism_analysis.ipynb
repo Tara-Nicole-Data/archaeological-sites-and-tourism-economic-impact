{
 "cells": [
  {
   "cell_type": "code",
   "execution_count": null,
   "id": "e8ad4258",
   "metadata": {},
   "outputs": [],
   "source": [
    "import pandas as pd\n",
    "import numpy as np\n",
    "import matplotlib.pyplot as plt\n",
    "import seaborn as sns"
   ]
  },
  {
   "cell_type": "code",
   "execution_count": null,
   "id": "98525ea6",
   "metadata": {},
   "outputs": [],
   "source": [
    "county_tax_receipts = pd.read_csv('../data/countytaxreceipts.csv')\n",
    "county_tax_receipts"
   ]
  },
  {
   "cell_type": "code",
   "execution_count": null,
   "id": "4bdbd108",
   "metadata": {},
   "outputs": [],
   "source": [
    "#rename County Tax Receipts column\n",
    "county_tax_receipts = county_tax_receipts.rename(columns={\"County Tax Receipts (Local Tax In Millions)\": \"county_tax_receipts_in_millions\"})\n",
    "county_tax_receipts"
   ]
  },
  {
   "cell_type": "code",
   "execution_count": null,
   "id": "074d53bf",
   "metadata": {},
   "outputs": [],
   "source": [
    "#sort county_tax_receipts in descending order\n",
    "sorted_county_tax = county_tax_receipts.sort_values(by='county_tax_receipts_in_millions', ascending = False)\n",
    "sorted_county_tax"
   ]
  },
  {
   "cell_type": "code",
   "execution_count": null,
   "id": "34b38ab7",
   "metadata": {},
   "outputs": [],
   "source": [
    "#remove Domestic&international rows\n",
    "sorted_county_tax_2 = sorted_county_tax[sorted_county_tax[\"County\"].str.contains(\"Domestic&international\")==False]\n",
    "sorted_county_tax_2"
   ]
  },
  {
   "cell_type": "code",
   "execution_count": null,
   "id": "7273ba60",
   "metadata": {},
   "outputs": [],
   "source": [
    "#only keep years: 2001, 2010, 2019\n",
    "sorted_county_tax_3 = sorted_county_tax_2[sorted_county_tax_2[\"Year\"].isin([\"2001\", \"2010\", \"2019\"])]\n",
    "sorted_county_tax_3"
   ]
  },
  {
   "cell_type": "code",
   "execution_count": null,
   "id": "defe69ba",
   "metadata": {},
   "outputs": [],
   "source": [
    "pd.DataFrame(data = sorted_county_tax_3)"
   ]
  },
  {
   "cell_type": "code",
   "execution_count": null,
   "id": "ad0ae518",
   "metadata": {},
   "outputs": [],
   "source": [
    "#sorted_county_tax_3.groupby('County')\n",
    "sorted_county_tax_3 = sorted_county_tax_3.groupby(['County',  'Year'])\n",
    "sorted_county_tax_3"
   ]
  },
  {
   "cell_type": "code",
   "execution_count": null,
   "id": "bca1c0b8",
   "metadata": {},
   "outputs": [],
   "source": [
    "employment = pd.read_csv('../data/employementinthousands.csv')\n",
    "employment"
   ]
  },
  {
   "cell_type": "code",
   "execution_count": null,
   "id": "5ddc1f28",
   "metadata": {},
   "outputs": [],
   "source": [
    "employment = employment.rename(columns={\"Employement In Thousands\": \"employment_in_thousands\"})\n",
    "employment"
   ]
  },
  {
   "cell_type": "code",
   "execution_count": null,
   "id": "a4c2f3f1",
   "metadata": {},
   "outputs": [],
   "source": [
    "sorted_employment = employment.sort_values(by=['employment_in_thousands'], ascending = False)\n",
    "sorted_employment"
   ]
  },
  {
   "cell_type": "code",
   "execution_count": null,
   "id": "6ef82d38",
   "metadata": {},
   "outputs": [],
   "source": [
    "expenditures = pd.read_csv('../data/expenditures.csv')\n",
    "expenditures"
   ]
  },
  {
   "cell_type": "code",
   "execution_count": null,
   "id": "e8e69950",
   "metadata": {},
   "outputs": [],
   "source": [
    "expenditures = expenditures.rename(columns={\"Expenditure ($ Millions)\": \"expenditure_in_millions\"})\n",
    "expenditures"
   ]
  },
  {
   "cell_type": "code",
   "execution_count": null,
   "id": "b25350b0",
   "metadata": {},
   "outputs": [],
   "source": [
    "sorted_expenditures = expenditures.sort_values(by=['expenditure_in_millions'], ascending = False)\n",
    "sorted_expenditures"
   ]
  },
  {
   "cell_type": "code",
   "execution_count": null,
   "id": "745d7b17",
   "metadata": {},
   "outputs": [],
   "source": [
    "local_tax_savings = pd.read_csv('../data/localtaxsavings.csv')\n",
    "local_tax_savings"
   ]
  },
  {
   "cell_type": "code",
   "execution_count": null,
   "id": "e6aaa1ee",
   "metadata": {},
   "outputs": [],
   "source": [
    "local_tax_savings = local_tax_savings.rename(columns={\"Value\": \"tax_savings_value\"})\n",
    "local_tax_savings"
   ]
  },
  {
   "cell_type": "code",
   "execution_count": null,
   "id": "70a8c958",
   "metadata": {},
   "outputs": [],
   "source": [
    "sorted_local_tax = local_tax_savings.sort_values(by=['tax_savings_value'], ascending = False)\n",
    "sorted_local_tax"
   ]
  },
  {
   "cell_type": "code",
   "execution_count": null,
   "id": "d651c4b2",
   "metadata": {},
   "outputs": [],
   "source": [
    "payroll = pd.read_csv('../data/payroll.csv')\n",
    "payroll"
   ]
  },
  {
   "cell_type": "code",
   "execution_count": null,
   "id": "bc4229d4",
   "metadata": {},
   "outputs": [],
   "source": [
    "payroll = payroll.rename(columns={\"Payroll ($ Millions)\": \"payroll_in_millions\"})\n",
    "payroll"
   ]
  },
  {
   "cell_type": "code",
   "execution_count": null,
   "id": "6fc41324",
   "metadata": {},
   "outputs": [],
   "source": [
    "sorted_payroll = payroll.sort_values(by=['payroll_in_millions'], ascending = False)\n",
    "sorted_payroll"
   ]
  },
  {
   "cell_type": "code",
   "execution_count": null,
   "id": "2e13474e",
   "metadata": {},
   "outputs": [],
   "source": [
    "state_tax_receipts = pd.read_csv('../data/statetaxreceipts.csv')\n",
    "state_tax_receipts"
   ]
  },
  {
   "cell_type": "code",
   "execution_count": null,
   "id": "36e3d84a",
   "metadata": {},
   "outputs": [],
   "source": [
    "state_tax_receipts = state_tax_receipts.rename(columns={\"State Tax Receipts ($ Millions)\": \"state_tax_receipts_in_millions\"})\n",
    "state_tax_receipts"
   ]
  },
  {
   "cell_type": "code",
   "execution_count": null,
   "id": "a638341a",
   "metadata": {},
   "outputs": [],
   "source": [
    "sorted_state_tax_receipts = state_tax_receipts.sort_values(by=['state_tax_receipts_in_millions'], ascending = False)\n",
    "sorted_state_tax_receipts"
   ]
  },
  {
   "cell_type": "code",
   "execution_count": null,
   "id": "180f5427",
   "metadata": {},
   "outputs": [],
   "source": [
    "state_tax_savings = pd.read_csv('../data/statetaxsavings.csv')\n",
    "state_tax_savings"
   ]
  },
  {
   "cell_type": "code",
   "execution_count": null,
   "id": "51201cb3",
   "metadata": {},
   "outputs": [],
   "source": [
    "state_tax_savings = state_tax_savings.rename(columns={\"Value\": \"state_tax_value_savings\"})\n",
    "state_tax_savings"
   ]
  },
  {
   "cell_type": "code",
   "execution_count": null,
   "id": "05c5beaf",
   "metadata": {},
   "outputs": [],
   "source": [
    "sorted_state_tax_savings = state_tax_savings.sort_values(by=['state_tax_value_savings'], ascending = False)\n",
    "sorted_state_tax_savings"
   ]
  },
  {
   "cell_type": "code",
   "execution_count": null,
   "id": "894506a4",
   "metadata": {},
   "outputs": [],
   "source": [
    "total_tax_saving = pd.read_csv('../data/totaltaxsaving.csv')\n",
    "total_tax_saving"
   ]
  },
  {
   "cell_type": "code",
   "execution_count": null,
   "id": "f5c7865b",
   "metadata": {},
   "outputs": [],
   "source": [
    "total_tax_saving = total_tax_saving.rename(columns={\"Value\": \"total_tax_savings\"})\n",
    "total_tax_saving"
   ]
  },
  {
   "cell_type": "code",
   "execution_count": null,
   "id": "d9637b82",
   "metadata": {},
   "outputs": [],
   "source": [
    "sorted_total_tax_savings = total_tax_saving.sort_values(by=['total_tax_savings'], ascending = False)\n",
    "sorted_total_tax_savings"
   ]
  },
  {
   "cell_type": "code",
   "execution_count": null,
   "id": "9c7e453b",
   "metadata": {},
   "outputs": [],
   "source": []
  }
 ],
 "metadata": {
  "kernelspec": {
   "display_name": "Python 3 (ipykernel)",
   "language": "python",
   "name": "python3"
  },
  "language_info": {
   "codemirror_mode": {
    "name": "ipython",
    "version": 3
   },
   "file_extension": ".py",
   "mimetype": "text/x-python",
   "name": "python",
   "nbconvert_exporter": "python",
   "pygments_lexer": "ipython3",
   "version": "3.9.12"
  }
 },
 "nbformat": 4,
 "nbformat_minor": 5
}
