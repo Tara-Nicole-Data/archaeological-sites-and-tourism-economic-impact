{
 "cells": [
  {
   "cell_type": "code",
   "execution_count": 1,
   "id": "8db845e8",
   "metadata": {},
   "outputs": [
    {
     "name": "stdout",
     "output_type": "stream",
     "text": [
      "Requirement already satisfied: pyshp in /Users/tara_nicole/opt/anaconda3/lib/python3.9/site-packages (2.3.1)\n",
      "Note: you may need to restart the kernel to use updated packages.\n"
     ]
    }
   ],
   "source": [
    "pip install pyshp"
   ]
  },
  {
   "cell_type": "code",
   "execution_count": 2,
   "id": "3936d892",
   "metadata": {},
   "outputs": [],
   "source": [
    "import numpy as np\n",
    "import pandas as pd\n",
    "import shapefile as shp\n",
    "import matplotlib.pyplot as plt\n",
    "import seaborn as sns"
   ]
  },
  {
   "cell_type": "markdown",
   "id": "3131255f",
   "metadata": {},
   "source": [
    "### Initializing Visualization Set"
   ]
  },
  {
   "cell_type": "code",
   "execution_count": 5,
   "id": "93ebc49a",
   "metadata": {},
   "outputs": [],
   "source": [
    "sns.set(style= 'whitegrid', palette= 'pastel', color_codes= True) \n",
    "sns.mpl.rc('figure', figsize=(10,6))"
   ]
  },
  {
   "cell_type": "markdown",
   "id": "78a98a99",
   "metadata": {},
   "source": [
    "### Opening Vector Map"
   ]
  },
  {
   "cell_type": "code",
   "execution_count": 9,
   "id": "c2e4d1be",
   "metadata": {},
   "outputs": [
    {
     "ename": "ShapefileException",
     "evalue": "Unable to open ..\\data\tl_2016_47_cousub.dbf or ..\\data\tl_2016_47_cousub.shp.",
     "output_type": "error",
     "traceback": [
      "\u001b[0;31m---------------------------------------------------------------------------\u001b[0m",
      "\u001b[0;31mShapefileException\u001b[0m                        Traceback (most recent call last)",
      "Input \u001b[0;32mIn [9]\u001b[0m, in \u001b[0;36m<cell line: 3>\u001b[0;34m()\u001b[0m\n\u001b[1;32m      1\u001b[0m shp_path \u001b[38;5;241m=\u001b[39m \u001b[38;5;124m'\u001b[39m\u001b[38;5;124m..\u001b[39m\u001b[38;5;124m\\\u001b[39m\u001b[38;5;124mdata\u001b[39m\u001b[38;5;130;01m\\t\u001b[39;00m\u001b[38;5;124ml_2016_47_cousub.shp\u001b[39m\u001b[38;5;124m'\u001b[39m\n\u001b[1;32m      2\u001b[0m \u001b[38;5;66;03m#reading the shape file by using reader function of the shape lib\u001b[39;00m\n\u001b[0;32m----> 3\u001b[0m sf \u001b[38;5;241m=\u001b[39m \u001b[43mshp\u001b[49m\u001b[38;5;241;43m.\u001b[39;49m\u001b[43mReader\u001b[49m\u001b[43m(\u001b[49m\u001b[43mshp_path\u001b[49m\u001b[43m)\u001b[49m\n",
      "File \u001b[0;32m~/opt/anaconda3/lib/python3.9/site-packages/shapefile.py:1048\u001b[0m, in \u001b[0;36mReader.__init__\u001b[0;34m(self, *args, **kwargs)\u001b[0m\n\u001b[1;32m   1043\u001b[0m                 \u001b[38;5;28;01mraise\u001b[39;00m ShapefileException(\u001b[38;5;124m\"\u001b[39m\u001b[38;5;124mNo shp or dbf file found at url: \u001b[39m\u001b[38;5;132;01m%s\u001b[39;00m\u001b[38;5;124m\"\u001b[39m \u001b[38;5;241m%\u001b[39m path)\n\u001b[1;32m   1045\u001b[0m         \u001b[38;5;28;01melse\u001b[39;00m:\n\u001b[1;32m   1046\u001b[0m             \u001b[38;5;66;03m# Local file path to a shapefile\u001b[39;00m\n\u001b[1;32m   1047\u001b[0m             \u001b[38;5;66;03m# Load and exit early\u001b[39;00m\n\u001b[0;32m-> 1048\u001b[0m             \u001b[38;5;28;43mself\u001b[39;49m\u001b[38;5;241;43m.\u001b[39;49m\u001b[43mload\u001b[49m\u001b[43m(\u001b[49m\u001b[43mpath\u001b[49m\u001b[43m)\u001b[49m\n\u001b[1;32m   1049\u001b[0m             \u001b[38;5;28;01mreturn\u001b[39;00m\n\u001b[1;32m   1051\u001b[0m \u001b[38;5;66;03m# Otherwise, load from separate shp/shx/dbf args (must be path or file-like)\u001b[39;00m\n",
      "File \u001b[0;32m~/opt/anaconda3/lib/python3.9/site-packages/shapefile.py:1193\u001b[0m, in \u001b[0;36mReader.load\u001b[0;34m(self, shapefile)\u001b[0m\n\u001b[1;32m   1191\u001b[0m     \u001b[38;5;28mself\u001b[39m\u001b[38;5;241m.\u001b[39mload_dbf(shapeName)\n\u001b[1;32m   1192\u001b[0m     \u001b[38;5;28;01mif\u001b[39;00m \u001b[38;5;129;01mnot\u001b[39;00m (\u001b[38;5;28mself\u001b[39m\u001b[38;5;241m.\u001b[39mshp \u001b[38;5;129;01mor\u001b[39;00m \u001b[38;5;28mself\u001b[39m\u001b[38;5;241m.\u001b[39mdbf):\n\u001b[0;32m-> 1193\u001b[0m         \u001b[38;5;28;01mraise\u001b[39;00m ShapefileException(\u001b[38;5;124m\"\u001b[39m\u001b[38;5;124mUnable to open \u001b[39m\u001b[38;5;132;01m%s\u001b[39;00m\u001b[38;5;124m.dbf or \u001b[39m\u001b[38;5;132;01m%s\u001b[39;00m\u001b[38;5;124m.shp.\u001b[39m\u001b[38;5;124m\"\u001b[39m \u001b[38;5;241m%\u001b[39m (shapeName, shapeName))\n\u001b[1;32m   1194\u001b[0m \u001b[38;5;28;01mif\u001b[39;00m \u001b[38;5;28mself\u001b[39m\u001b[38;5;241m.\u001b[39mshp:\n\u001b[1;32m   1195\u001b[0m     \u001b[38;5;28mself\u001b[39m\u001b[38;5;241m.\u001b[39m__shpHeader()\n",
      "\u001b[0;31mShapefileException\u001b[0m: Unable to open ..\\data\tl_2016_47_cousub.dbf or ..\\data\tl_2016_47_cousub.shp."
     ]
    }
   ],
   "source": [
    "shp_path = '..\\data\\tl_2016_47_cousub.shp'\n",
    "#reading the shape file by using reader function of the shape lib\n",
    "sf = shp.Reader(shp_path)"
   ]
  },
  {
   "cell_type": "code",
   "execution_count": null,
   "id": "d072e3f1",
   "metadata": {},
   "outputs": [],
   "source": []
  }
 ],
 "metadata": {
  "kernelspec": {
   "display_name": "Python 3 (ipykernel)",
   "language": "python",
   "name": "python3"
  },
  "language_info": {
   "codemirror_mode": {
    "name": "ipython",
    "version": 3
   },
   "file_extension": ".py",
   "mimetype": "text/x-python",
   "name": "python",
   "nbconvert_exporter": "python",
   "pygments_lexer": "ipython3",
   "version": "3.9.12"
  }
 },
 "nbformat": 4,
 "nbformat_minor": 5
}
