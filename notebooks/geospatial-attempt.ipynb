{
 "cells": [
  {
   "cell_type": "code",
   "execution_count": null,
   "id": "d0a1272e",
   "metadata": {},
   "outputs": [],
   "source": [
    "import numpy as np\n",
    "import pandas as pd\n",
    "import shapefile as shp\n",
    "import matplotlib.pyplot as plt"
   ]
  },
  {
   "cell_type": "markdown",
   "id": "c2b2d1e0",
   "metadata": {},
   "source": [
    "### Opening Vector Map"
   ]
  },
  {
   "cell_type": "code",
   "execution_count": null,
   "id": "aa2e41f5",
   "metadata": {},
   "outputs": [],
   "source": [
    "shape = shp.Reader(\"../data/tl_2016_47_cousub.shp\")"
   ]
  },
  {
   "cell_type": "code",
   "execution_count": null,
   "id": "15bc75b4",
   "metadata": {},
   "outputs": [],
   "source": [
    "shape"
   ]
  },
  {
   "cell_type": "code",
   "execution_count": null,
   "id": "613533c0",
   "metadata": {},
   "outputs": [],
   "source": [
    "len(shape.shapes())"
   ]
  },
  {
   "cell_type": "code",
   "execution_count": null,
   "id": "4e7015e5",
   "metadata": {},
   "outputs": [],
   "source": []
  }
 ],
 "metadata": {
  "kernelspec": {
   "display_name": "Python 3 (ipykernel)",
   "language": "python",
   "name": "python3"
  },
  "language_info": {
   "codemirror_mode": {
    "name": "ipython",
    "version": 3
   },
   "file_extension": ".py",
   "mimetype": "text/x-python",
   "name": "python",
   "nbconvert_exporter": "python",
   "pygments_lexer": "ipython3",
   "version": "3.8.5"
  }
 },
 "nbformat": 4,
 "nbformat_minor": 5
}
